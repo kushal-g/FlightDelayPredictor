{
  "nbformat": 4,
  "nbformat_minor": 0,
  "metadata": {
    "colab": {
      "name": "Untitled7.ipynb",
      "provenance": [],
      "collapsed_sections": [],
      "machine_shape": "hm",
      "authorship_tag": "ABX9TyPaHheGlDXnYtsXyJI6Bg0T",
      "include_colab_link": true
    },
    "kernelspec": {
      "name": "python3",
      "display_name": "Python 3"
    }
  },
  "cells": [
    {
      "cell_type": "markdown",
      "metadata": {
        "id": "view-in-github",
        "colab_type": "text"
      },
      "source": [
        "<a href=\"https://colab.research.google.com/github/kushal-g/FlightDelayPredictor/blob/master/More%20models/CleaningProcess.ipynb\" target=\"_parent\"><img src=\"https://colab.research.google.com/assets/colab-badge.svg\" alt=\"Open In Colab\"/></a>"
      ]
    },
    {
      "cell_type": "code",
      "metadata": {
        "id": "9edQIz4kjgjL",
        "colab_type": "code",
        "colab": {}
      },
      "source": [
        "import numpy as np"
      ],
      "execution_count": 0,
      "outputs": []
    },
    {
      "cell_type": "code",
      "metadata": {
        "id": "oq2CgxAPjkrf",
        "colab_type": "code",
        "colab": {}
      },
      "source": [
        "import pandas as pd"
      ],
      "execution_count": 0,
      "outputs": []
    },
    {
      "cell_type": "code",
      "metadata": {
        "id": "-hsxZMBqjpnn",
        "colab_type": "code",
        "colab": {}
      },
      "source": [
        "from multiprocessing import Pool"
      ],
      "execution_count": 0,
      "outputs": []
    },
    {
      "cell_type": "code",
      "metadata": {
        "id": "FejTtlkmjulq",
        "colab_type": "code",
        "colab": {}
      },
      "source": [
        "import matplotlib as plt"
      ],
      "execution_count": 0,
      "outputs": []
    },
    {
      "cell_type": "code",
      "metadata": {
        "id": "bfL8RtiUkSwY",
        "colab_type": "code",
        "outputId": "67a17df6-d46f-4bff-98f4-67d8c082369a",
        "colab": {
          "base_uri": "https://localhost:8080/",
          "height": 34
        }
      },
      "source": [
        "from google.colab import drive\n",
        "drive.mount('/content/gdrive')"
      ],
      "execution_count": 8,
      "outputs": [
        {
          "output_type": "stream",
          "text": [
            "Drive already mounted at /content/gdrive; to attempt to forcibly remount, call drive.mount(\"/content/gdrive\", force_remount=True).\n"
          ],
          "name": "stdout"
        }
      ]
    },
    {
      "cell_type": "code",
      "metadata": {
        "id": "0DMBlkbxkcD-",
        "colab_type": "code",
        "outputId": "5d9b8299-fdb1-427c-85a8-f8e6729c109c",
        "colab": {
          "base_uri": "https://localhost:8080/",
          "height": 34
        }
      },
      "source": [
        "cd /content/gdrive/My\\ Drive"
      ],
      "execution_count": 9,
      "outputs": [
        {
          "output_type": "stream",
          "text": [
            "/content/gdrive/My Drive\n"
          ],
          "name": "stdout"
        }
      ]
    },
    {
      "cell_type": "code",
      "metadata": {
        "id": "ggPTUddHkel8",
        "colab_type": "code",
        "colab": {}
      },
      "source": [
        "df = pd.read_csv(\"flights.csv\",dtype={\"MONTH\":object,\"DAY_OF_WEEK\":object,\"ORIGIN_AIRPORT\":object,\"DESTINATION_AIRPORT\":object}).drop([\"CANCELLATION_REASON\",\"AIR_SYSTEM_DELAY\",\"SECURITY_DELAY\",\"AIRLINE_DELAY\",\"LATE_AIRCRAFT_DELAY\",\"WEATHER_DELAY\"],axis=1)\n",
        "df.dropna(inplace=True)\n",
        "df =df[(df[\"ARRIVAL_DELAY\"]<=200) & (df[\"ARRIVAL_DELAY\"]>=-35)]\n",
        "df =df[(df[\"DEPARTURE_DELAY\"]<=150) & (df[\"DEPARTURE_DELAY\"]>=-15)]\n",
        "df = df.sample(frac=0.2,random_state=42)\n",
        "df = df.reset_index().drop([\"index\"],axis=1)"
      ],
      "execution_count": 0,
      "outputs": []
    },
    {
      "cell_type": "code",
      "metadata": {
        "id": "yiuMc6wcknA9",
        "colab_type": "code",
        "outputId": "8b4f996d-481d-499c-8330-e81e92808e58",
        "colab": {
          "base_uri": "https://localhost:8080/",
          "height": 224
        }
      },
      "source": [
        "df.head()"
      ],
      "execution_count": 8,
      "outputs": [
        {
          "output_type": "execute_result",
          "data": {
            "text/html": [
              "<div>\n",
              "<style scoped>\n",
              "    .dataframe tbody tr th:only-of-type {\n",
              "        vertical-align: middle;\n",
              "    }\n",
              "\n",
              "    .dataframe tbody tr th {\n",
              "        vertical-align: top;\n",
              "    }\n",
              "\n",
              "    .dataframe thead th {\n",
              "        text-align: right;\n",
              "    }\n",
              "</style>\n",
              "<table border=\"1\" class=\"dataframe\">\n",
              "  <thead>\n",
              "    <tr style=\"text-align: right;\">\n",
              "      <th></th>\n",
              "      <th>YEAR</th>\n",
              "      <th>MONTH</th>\n",
              "      <th>DAY</th>\n",
              "      <th>DAY_OF_WEEK</th>\n",
              "      <th>AIRLINE</th>\n",
              "      <th>FLIGHT_NUMBER</th>\n",
              "      <th>TAIL_NUMBER</th>\n",
              "      <th>ORIGIN_AIRPORT</th>\n",
              "      <th>DESTINATION_AIRPORT</th>\n",
              "      <th>SCHEDULED_DEPARTURE</th>\n",
              "      <th>DEPARTURE_TIME</th>\n",
              "      <th>DEPARTURE_DELAY</th>\n",
              "      <th>TAXI_OUT</th>\n",
              "      <th>WHEELS_OFF</th>\n",
              "      <th>SCHEDULED_TIME</th>\n",
              "      <th>ELAPSED_TIME</th>\n",
              "      <th>AIR_TIME</th>\n",
              "      <th>DISTANCE</th>\n",
              "      <th>WHEELS_ON</th>\n",
              "      <th>TAXI_IN</th>\n",
              "      <th>SCHEDULED_ARRIVAL</th>\n",
              "      <th>ARRIVAL_TIME</th>\n",
              "      <th>ARRIVAL_DELAY</th>\n",
              "      <th>DIVERTED</th>\n",
              "      <th>CANCELLED</th>\n",
              "    </tr>\n",
              "  </thead>\n",
              "  <tbody>\n",
              "    <tr>\n",
              "      <th>0</th>\n",
              "      <td>2015</td>\n",
              "      <td>5</td>\n",
              "      <td>20</td>\n",
              "      <td>3</td>\n",
              "      <td>F9</td>\n",
              "      <td>770</td>\n",
              "      <td>N208FR</td>\n",
              "      <td>LAS</td>\n",
              "      <td>DEN</td>\n",
              "      <td>1050</td>\n",
              "      <td>1104.0</td>\n",
              "      <td>14.0</td>\n",
              "      <td>24.0</td>\n",
              "      <td>1128.0</td>\n",
              "      <td>110.0</td>\n",
              "      <td>108.0</td>\n",
              "      <td>79.0</td>\n",
              "      <td>628</td>\n",
              "      <td>1347.0</td>\n",
              "      <td>5.0</td>\n",
              "      <td>1340</td>\n",
              "      <td>1352.0</td>\n",
              "      <td>12.0</td>\n",
              "      <td>0</td>\n",
              "      <td>0</td>\n",
              "    </tr>\n",
              "    <tr>\n",
              "      <th>1</th>\n",
              "      <td>2015</td>\n",
              "      <td>10</td>\n",
              "      <td>18</td>\n",
              "      <td>7</td>\n",
              "      <td>MQ</td>\n",
              "      <td>3342</td>\n",
              "      <td>N697MQ</td>\n",
              "      <td>11980</td>\n",
              "      <td>11298</td>\n",
              "      <td>1407</td>\n",
              "      <td>1356.0</td>\n",
              "      <td>-11.0</td>\n",
              "      <td>5.0</td>\n",
              "      <td>1401.0</td>\n",
              "      <td>111.0</td>\n",
              "      <td>93.0</td>\n",
              "      <td>81.0</td>\n",
              "      <td>561</td>\n",
              "      <td>1522.0</td>\n",
              "      <td>7.0</td>\n",
              "      <td>1558</td>\n",
              "      <td>1529.0</td>\n",
              "      <td>-29.0</td>\n",
              "      <td>0</td>\n",
              "      <td>0</td>\n",
              "    </tr>\n",
              "    <tr>\n",
              "      <th>2</th>\n",
              "      <td>2015</td>\n",
              "      <td>12</td>\n",
              "      <td>27</td>\n",
              "      <td>7</td>\n",
              "      <td>DL</td>\n",
              "      <td>2184</td>\n",
              "      <td>N990AT</td>\n",
              "      <td>SDF</td>\n",
              "      <td>ATL</td>\n",
              "      <td>1710</td>\n",
              "      <td>1717.0</td>\n",
              "      <td>7.0</td>\n",
              "      <td>25.0</td>\n",
              "      <td>1742.0</td>\n",
              "      <td>95.0</td>\n",
              "      <td>92.0</td>\n",
              "      <td>60.0</td>\n",
              "      <td>321</td>\n",
              "      <td>1842.0</td>\n",
              "      <td>7.0</td>\n",
              "      <td>1845</td>\n",
              "      <td>1849.0</td>\n",
              "      <td>4.0</td>\n",
              "      <td>0</td>\n",
              "      <td>0</td>\n",
              "    </tr>\n",
              "    <tr>\n",
              "      <th>3</th>\n",
              "      <td>2015</td>\n",
              "      <td>2</td>\n",
              "      <td>9</td>\n",
              "      <td>1</td>\n",
              "      <td>NK</td>\n",
              "      <td>561</td>\n",
              "      <td>N529NK</td>\n",
              "      <td>DEN</td>\n",
              "      <td>LAS</td>\n",
              "      <td>1130</td>\n",
              "      <td>1126.0</td>\n",
              "      <td>-4.0</td>\n",
              "      <td>14.0</td>\n",
              "      <td>1140.0</td>\n",
              "      <td>115.0</td>\n",
              "      <td>121.0</td>\n",
              "      <td>103.0</td>\n",
              "      <td>628</td>\n",
              "      <td>1223.0</td>\n",
              "      <td>4.0</td>\n",
              "      <td>1225</td>\n",
              "      <td>1227.0</td>\n",
              "      <td>2.0</td>\n",
              "      <td>0</td>\n",
              "      <td>0</td>\n",
              "    </tr>\n",
              "    <tr>\n",
              "      <th>4</th>\n",
              "      <td>2015</td>\n",
              "      <td>11</td>\n",
              "      <td>9</td>\n",
              "      <td>1</td>\n",
              "      <td>HA</td>\n",
              "      <td>211</td>\n",
              "      <td>N477HA</td>\n",
              "      <td>OGG</td>\n",
              "      <td>LIH</td>\n",
              "      <td>1129</td>\n",
              "      <td>1126.0</td>\n",
              "      <td>-3.0</td>\n",
              "      <td>10.0</td>\n",
              "      <td>1136.0</td>\n",
              "      <td>47.0</td>\n",
              "      <td>49.0</td>\n",
              "      <td>34.0</td>\n",
              "      <td>201</td>\n",
              "      <td>1210.0</td>\n",
              "      <td>5.0</td>\n",
              "      <td>1216</td>\n",
              "      <td>1215.0</td>\n",
              "      <td>-1.0</td>\n",
              "      <td>0</td>\n",
              "      <td>0</td>\n",
              "    </tr>\n",
              "  </tbody>\n",
              "</table>\n",
              "</div>"
            ],
            "text/plain": [
              "   YEAR MONTH  DAY  ... ARRIVAL_DELAY DIVERTED  CANCELLED\n",
              "0  2015     5   20  ...          12.0        0          0\n",
              "1  2015    10   18  ...         -29.0        0          0\n",
              "2  2015    12   27  ...           4.0        0          0\n",
              "3  2015     2    9  ...           2.0        0          0\n",
              "4  2015    11    9  ...          -1.0        0          0\n",
              "\n",
              "[5 rows x 25 columns]"
            ]
          },
          "metadata": {
            "tags": []
          },
          "execution_count": 8
        }
      ]
    },
    {
      "cell_type": "code",
      "metadata": {
        "id": "3HcKLzqvRn_o",
        "colab_type": "code",
        "colab": {}
      },
      "source": [
        "df.drop([\"YEAR\",\"DAY\",\"FLIGHT_NUMBER\",\"DEPARTURE_TIME\",\"ARRIVAL_TIME\"],axis=1,inplace=True)"
      ],
      "execution_count": 0,
      "outputs": []
    },
    {
      "cell_type": "code",
      "metadata": {
        "id": "AqxRHHNhSD4x",
        "colab_type": "code",
        "outputId": "af819700-f121-45f4-d7e6-e19208857d42",
        "colab": {
          "base_uri": "https://localhost:8080/",
          "height": 224
        }
      },
      "source": [
        "df.head()"
      ],
      "execution_count": 10,
      "outputs": [
        {
          "output_type": "execute_result",
          "data": {
            "text/html": [
              "<div>\n",
              "<style scoped>\n",
              "    .dataframe tbody tr th:only-of-type {\n",
              "        vertical-align: middle;\n",
              "    }\n",
              "\n",
              "    .dataframe tbody tr th {\n",
              "        vertical-align: top;\n",
              "    }\n",
              "\n",
              "    .dataframe thead th {\n",
              "        text-align: right;\n",
              "    }\n",
              "</style>\n",
              "<table border=\"1\" class=\"dataframe\">\n",
              "  <thead>\n",
              "    <tr style=\"text-align: right;\">\n",
              "      <th></th>\n",
              "      <th>MONTH</th>\n",
              "      <th>DAY_OF_WEEK</th>\n",
              "      <th>AIRLINE</th>\n",
              "      <th>TAIL_NUMBER</th>\n",
              "      <th>ORIGIN_AIRPORT</th>\n",
              "      <th>DESTINATION_AIRPORT</th>\n",
              "      <th>SCHEDULED_DEPARTURE</th>\n",
              "      <th>DEPARTURE_DELAY</th>\n",
              "      <th>TAXI_OUT</th>\n",
              "      <th>WHEELS_OFF</th>\n",
              "      <th>SCHEDULED_TIME</th>\n",
              "      <th>ELAPSED_TIME</th>\n",
              "      <th>AIR_TIME</th>\n",
              "      <th>DISTANCE</th>\n",
              "      <th>WHEELS_ON</th>\n",
              "      <th>TAXI_IN</th>\n",
              "      <th>SCHEDULED_ARRIVAL</th>\n",
              "      <th>ARRIVAL_DELAY</th>\n",
              "      <th>DIVERTED</th>\n",
              "      <th>CANCELLED</th>\n",
              "    </tr>\n",
              "  </thead>\n",
              "  <tbody>\n",
              "    <tr>\n",
              "      <th>0</th>\n",
              "      <td>5</td>\n",
              "      <td>3</td>\n",
              "      <td>F9</td>\n",
              "      <td>N208FR</td>\n",
              "      <td>LAS</td>\n",
              "      <td>DEN</td>\n",
              "      <td>1050</td>\n",
              "      <td>14.0</td>\n",
              "      <td>24.0</td>\n",
              "      <td>1128.0</td>\n",
              "      <td>110.0</td>\n",
              "      <td>108.0</td>\n",
              "      <td>79.0</td>\n",
              "      <td>628</td>\n",
              "      <td>1347.0</td>\n",
              "      <td>5.0</td>\n",
              "      <td>1340</td>\n",
              "      <td>12.0</td>\n",
              "      <td>0</td>\n",
              "      <td>0</td>\n",
              "    </tr>\n",
              "    <tr>\n",
              "      <th>1</th>\n",
              "      <td>10</td>\n",
              "      <td>7</td>\n",
              "      <td>MQ</td>\n",
              "      <td>N697MQ</td>\n",
              "      <td>11980</td>\n",
              "      <td>11298</td>\n",
              "      <td>1407</td>\n",
              "      <td>-11.0</td>\n",
              "      <td>5.0</td>\n",
              "      <td>1401.0</td>\n",
              "      <td>111.0</td>\n",
              "      <td>93.0</td>\n",
              "      <td>81.0</td>\n",
              "      <td>561</td>\n",
              "      <td>1522.0</td>\n",
              "      <td>7.0</td>\n",
              "      <td>1558</td>\n",
              "      <td>-29.0</td>\n",
              "      <td>0</td>\n",
              "      <td>0</td>\n",
              "    </tr>\n",
              "    <tr>\n",
              "      <th>2</th>\n",
              "      <td>12</td>\n",
              "      <td>7</td>\n",
              "      <td>DL</td>\n",
              "      <td>N990AT</td>\n",
              "      <td>SDF</td>\n",
              "      <td>ATL</td>\n",
              "      <td>1710</td>\n",
              "      <td>7.0</td>\n",
              "      <td>25.0</td>\n",
              "      <td>1742.0</td>\n",
              "      <td>95.0</td>\n",
              "      <td>92.0</td>\n",
              "      <td>60.0</td>\n",
              "      <td>321</td>\n",
              "      <td>1842.0</td>\n",
              "      <td>7.0</td>\n",
              "      <td>1845</td>\n",
              "      <td>4.0</td>\n",
              "      <td>0</td>\n",
              "      <td>0</td>\n",
              "    </tr>\n",
              "    <tr>\n",
              "      <th>3</th>\n",
              "      <td>2</td>\n",
              "      <td>1</td>\n",
              "      <td>NK</td>\n",
              "      <td>N529NK</td>\n",
              "      <td>DEN</td>\n",
              "      <td>LAS</td>\n",
              "      <td>1130</td>\n",
              "      <td>-4.0</td>\n",
              "      <td>14.0</td>\n",
              "      <td>1140.0</td>\n",
              "      <td>115.0</td>\n",
              "      <td>121.0</td>\n",
              "      <td>103.0</td>\n",
              "      <td>628</td>\n",
              "      <td>1223.0</td>\n",
              "      <td>4.0</td>\n",
              "      <td>1225</td>\n",
              "      <td>2.0</td>\n",
              "      <td>0</td>\n",
              "      <td>0</td>\n",
              "    </tr>\n",
              "    <tr>\n",
              "      <th>4</th>\n",
              "      <td>11</td>\n",
              "      <td>1</td>\n",
              "      <td>HA</td>\n",
              "      <td>N477HA</td>\n",
              "      <td>OGG</td>\n",
              "      <td>LIH</td>\n",
              "      <td>1129</td>\n",
              "      <td>-3.0</td>\n",
              "      <td>10.0</td>\n",
              "      <td>1136.0</td>\n",
              "      <td>47.0</td>\n",
              "      <td>49.0</td>\n",
              "      <td>34.0</td>\n",
              "      <td>201</td>\n",
              "      <td>1210.0</td>\n",
              "      <td>5.0</td>\n",
              "      <td>1216</td>\n",
              "      <td>-1.0</td>\n",
              "      <td>0</td>\n",
              "      <td>0</td>\n",
              "    </tr>\n",
              "  </tbody>\n",
              "</table>\n",
              "</div>"
            ],
            "text/plain": [
              "  MONTH DAY_OF_WEEK AIRLINE  ... ARRIVAL_DELAY DIVERTED CANCELLED\n",
              "0     5           3      F9  ...          12.0        0         0\n",
              "1    10           7      MQ  ...         -29.0        0         0\n",
              "2    12           7      DL  ...           4.0        0         0\n",
              "3     2           1      NK  ...           2.0        0         0\n",
              "4    11           1      HA  ...          -1.0        0         0\n",
              "\n",
              "[5 rows x 20 columns]"
            ]
          },
          "metadata": {
            "tags": []
          },
          "execution_count": 10
        }
      ]
    },
    {
      "cell_type": "code",
      "metadata": {
        "id": "fat7nWKRSMbX",
        "colab_type": "code",
        "colab": {}
      },
      "source": [
        "df.drop([\"TAXI_OUT\",\"WHEELS_OFF\",\"ELAPSED_TIME\",\"AIR_TIME\",\"WHEELS_ON\",\"TAXI_IN\"],axis=1,inplace=True)"
      ],
      "execution_count": 0,
      "outputs": []
    },
    {
      "cell_type": "code",
      "metadata": {
        "id": "IZeUYtGMS1Hb",
        "colab_type": "code",
        "colab": {}
      },
      "source": [
        "def interval3(timeList):\n",
        "  list =[]\n",
        "  count = 0\n",
        "  for time in timeList:\n",
        "    if(time<200):\n",
        "      count=count+1\n",
        "      list.append(\"[0000,0200)\")\n",
        "    elif(time<400):\n",
        "      list.append(\"[0200,0400)\")\n",
        "    elif(time<600):\n",
        "      list.append(\"[0400,0600)\")\n",
        "    elif(time<800):\n",
        "      list.append(\"[0600,0800)\")\n",
        "    elif(time<1000):\n",
        "      list.append(\"[0800,1000)\")\n",
        "    elif(time<1200):\n",
        "      list.append(\"[1000,1200)\")\n",
        "    elif(time<1400):\n",
        "      list.append(\"[1200,1400)\")\n",
        "    elif(time<1600):\n",
        "      list.append(\"[1400,1600)\")\n",
        "    elif(time<1800):\n",
        "      list.append(\"[1600,1800)\")\n",
        "    elif(time<2000):\n",
        "      list.append(\"[1800,2000)\")\n",
        "    elif(time<2200):\n",
        "      list.append(\"[2000,2200)\")\n",
        "    elif(time<=2359):\n",
        "      list.append(\"[2200,2359]\")\n",
        "  \n",
        "  return list"
      ],
      "execution_count": 0,
      "outputs": []
    },
    {
      "cell_type": "code",
      "metadata": {
        "id": "3j7IKpNYbk4Y",
        "colab_type": "code",
        "colab": {}
      },
      "source": [
        "scheduledDeparture = interval3(df[\"SCHEDULED_DEPARTURE\"])"
      ],
      "execution_count": 0,
      "outputs": []
    },
    {
      "cell_type": "code",
      "metadata": {
        "id": "qVUQlRk9bvt1",
        "colab_type": "code",
        "colab": {}
      },
      "source": [
        "scheduledDeparture = pd.Series(scheduledDeparture,name=\"SCHEDULED_DEPARTURE_BINNED\")"
      ],
      "execution_count": 0,
      "outputs": []
    },
    {
      "cell_type": "code",
      "metadata": {
        "id": "Zt0U5i4k8Uij",
        "colab_type": "code",
        "colab": {}
      },
      "source": [
        "df = pd.concat([df,scheduledDeparture],axis=1)"
      ],
      "execution_count": 0,
      "outputs": []
    },
    {
      "cell_type": "code",
      "metadata": {
        "id": "Ku6yHiSo82F1",
        "colab_type": "code",
        "colab": {}
      },
      "source": [
        "scheduledArrival = pd.Series(interval3(df[\"SCHEDULED_ARRIVAL\"]),name=\"SCHEDULED_ARRIVAL_BINNED\")"
      ],
      "execution_count": 0,
      "outputs": []
    },
    {
      "cell_type": "code",
      "metadata": {
        "id": "SYseeVeC9ACo",
        "colab_type": "code",
        "colab": {}
      },
      "source": [
        "df = pd.concat([df,scheduledArrival],axis=1)"
      ],
      "execution_count": 0,
      "outputs": []
    },
    {
      "cell_type": "code",
      "metadata": {
        "id": "EPC0ucRb9Q6k",
        "colab_type": "code",
        "outputId": "b4058703-82ae-4ab8-c7ab-de634feb19fd",
        "colab": {
          "base_uri": "https://localhost:8080/",
          "height": 224
        }
      },
      "source": [
        "df.head()"
      ],
      "execution_count": 18,
      "outputs": [
        {
          "output_type": "execute_result",
          "data": {
            "text/html": [
              "<div>\n",
              "<style scoped>\n",
              "    .dataframe tbody tr th:only-of-type {\n",
              "        vertical-align: middle;\n",
              "    }\n",
              "\n",
              "    .dataframe tbody tr th {\n",
              "        vertical-align: top;\n",
              "    }\n",
              "\n",
              "    .dataframe thead th {\n",
              "        text-align: right;\n",
              "    }\n",
              "</style>\n",
              "<table border=\"1\" class=\"dataframe\">\n",
              "  <thead>\n",
              "    <tr style=\"text-align: right;\">\n",
              "      <th></th>\n",
              "      <th>MONTH</th>\n",
              "      <th>DAY_OF_WEEK</th>\n",
              "      <th>AIRLINE</th>\n",
              "      <th>TAIL_NUMBER</th>\n",
              "      <th>ORIGIN_AIRPORT</th>\n",
              "      <th>DESTINATION_AIRPORT</th>\n",
              "      <th>SCHEDULED_DEPARTURE</th>\n",
              "      <th>DEPARTURE_DELAY</th>\n",
              "      <th>SCHEDULED_TIME</th>\n",
              "      <th>DISTANCE</th>\n",
              "      <th>SCHEDULED_ARRIVAL</th>\n",
              "      <th>ARRIVAL_DELAY</th>\n",
              "      <th>DIVERTED</th>\n",
              "      <th>CANCELLED</th>\n",
              "      <th>SCHEDULED_DEPARTURE_BINNED</th>\n",
              "      <th>SCHEDULED_ARRIVAL_BINNED</th>\n",
              "    </tr>\n",
              "  </thead>\n",
              "  <tbody>\n",
              "    <tr>\n",
              "      <th>0</th>\n",
              "      <td>5</td>\n",
              "      <td>3</td>\n",
              "      <td>F9</td>\n",
              "      <td>N208FR</td>\n",
              "      <td>LAS</td>\n",
              "      <td>DEN</td>\n",
              "      <td>1050</td>\n",
              "      <td>14.0</td>\n",
              "      <td>110.0</td>\n",
              "      <td>628</td>\n",
              "      <td>1340</td>\n",
              "      <td>12.0</td>\n",
              "      <td>0</td>\n",
              "      <td>0</td>\n",
              "      <td>[1000,1200)</td>\n",
              "      <td>[1200,1400)</td>\n",
              "    </tr>\n",
              "    <tr>\n",
              "      <th>1</th>\n",
              "      <td>10</td>\n",
              "      <td>7</td>\n",
              "      <td>MQ</td>\n",
              "      <td>N697MQ</td>\n",
              "      <td>11980</td>\n",
              "      <td>11298</td>\n",
              "      <td>1407</td>\n",
              "      <td>-11.0</td>\n",
              "      <td>111.0</td>\n",
              "      <td>561</td>\n",
              "      <td>1558</td>\n",
              "      <td>-29.0</td>\n",
              "      <td>0</td>\n",
              "      <td>0</td>\n",
              "      <td>[1400,1600)</td>\n",
              "      <td>[1400,1600)</td>\n",
              "    </tr>\n",
              "    <tr>\n",
              "      <th>2</th>\n",
              "      <td>12</td>\n",
              "      <td>7</td>\n",
              "      <td>DL</td>\n",
              "      <td>N990AT</td>\n",
              "      <td>SDF</td>\n",
              "      <td>ATL</td>\n",
              "      <td>1710</td>\n",
              "      <td>7.0</td>\n",
              "      <td>95.0</td>\n",
              "      <td>321</td>\n",
              "      <td>1845</td>\n",
              "      <td>4.0</td>\n",
              "      <td>0</td>\n",
              "      <td>0</td>\n",
              "      <td>[1600,1800)</td>\n",
              "      <td>[1800,2000)</td>\n",
              "    </tr>\n",
              "    <tr>\n",
              "      <th>3</th>\n",
              "      <td>2</td>\n",
              "      <td>1</td>\n",
              "      <td>NK</td>\n",
              "      <td>N529NK</td>\n",
              "      <td>DEN</td>\n",
              "      <td>LAS</td>\n",
              "      <td>1130</td>\n",
              "      <td>-4.0</td>\n",
              "      <td>115.0</td>\n",
              "      <td>628</td>\n",
              "      <td>1225</td>\n",
              "      <td>2.0</td>\n",
              "      <td>0</td>\n",
              "      <td>0</td>\n",
              "      <td>[1000,1200)</td>\n",
              "      <td>[1200,1400)</td>\n",
              "    </tr>\n",
              "    <tr>\n",
              "      <th>4</th>\n",
              "      <td>11</td>\n",
              "      <td>1</td>\n",
              "      <td>HA</td>\n",
              "      <td>N477HA</td>\n",
              "      <td>OGG</td>\n",
              "      <td>LIH</td>\n",
              "      <td>1129</td>\n",
              "      <td>-3.0</td>\n",
              "      <td>47.0</td>\n",
              "      <td>201</td>\n",
              "      <td>1216</td>\n",
              "      <td>-1.0</td>\n",
              "      <td>0</td>\n",
              "      <td>0</td>\n",
              "      <td>[1000,1200)</td>\n",
              "      <td>[1200,1400)</td>\n",
              "    </tr>\n",
              "  </tbody>\n",
              "</table>\n",
              "</div>"
            ],
            "text/plain": [
              "  MONTH DAY_OF_WEEK  ... SCHEDULED_DEPARTURE_BINNED SCHEDULED_ARRIVAL_BINNED\n",
              "0     5           3  ...                [1000,1200)              [1200,1400)\n",
              "1    10           7  ...                [1400,1600)              [1400,1600)\n",
              "2    12           7  ...                [1600,1800)              [1800,2000)\n",
              "3     2           1  ...                [1000,1200)              [1200,1400)\n",
              "4    11           1  ...                [1000,1200)              [1200,1400)\n",
              "\n",
              "[5 rows x 16 columns]"
            ]
          },
          "metadata": {
            "tags": []
          },
          "execution_count": 18
        }
      ]
    },
    {
      "cell_type": "code",
      "metadata": {
        "id": "hAeKsBzC9Vs2",
        "colab_type": "code",
        "colab": {}
      },
      "source": [
        "df.drop([\"SCHEDULED_DEPARTURE\",\"SCHEDULED_ARRIVAL\"],axis=1,inplace=True)"
      ],
      "execution_count": 0,
      "outputs": []
    },
    {
      "cell_type": "code",
      "metadata": {
        "id": "5cFz5hnn9mZI",
        "colab_type": "code",
        "outputId": "09ca6b57-9024-4f0c-de60-3ef9ca7e0218",
        "colab": {
          "base_uri": "https://localhost:8080/",
          "height": 224
        }
      },
      "source": [
        "df.head()"
      ],
      "execution_count": 20,
      "outputs": [
        {
          "output_type": "execute_result",
          "data": {
            "text/html": [
              "<div>\n",
              "<style scoped>\n",
              "    .dataframe tbody tr th:only-of-type {\n",
              "        vertical-align: middle;\n",
              "    }\n",
              "\n",
              "    .dataframe tbody tr th {\n",
              "        vertical-align: top;\n",
              "    }\n",
              "\n",
              "    .dataframe thead th {\n",
              "        text-align: right;\n",
              "    }\n",
              "</style>\n",
              "<table border=\"1\" class=\"dataframe\">\n",
              "  <thead>\n",
              "    <tr style=\"text-align: right;\">\n",
              "      <th></th>\n",
              "      <th>MONTH</th>\n",
              "      <th>DAY_OF_WEEK</th>\n",
              "      <th>AIRLINE</th>\n",
              "      <th>TAIL_NUMBER</th>\n",
              "      <th>ORIGIN_AIRPORT</th>\n",
              "      <th>DESTINATION_AIRPORT</th>\n",
              "      <th>DEPARTURE_DELAY</th>\n",
              "      <th>SCHEDULED_TIME</th>\n",
              "      <th>DISTANCE</th>\n",
              "      <th>ARRIVAL_DELAY</th>\n",
              "      <th>DIVERTED</th>\n",
              "      <th>CANCELLED</th>\n",
              "      <th>SCHEDULED_DEPARTURE_BINNED</th>\n",
              "      <th>SCHEDULED_ARRIVAL_BINNED</th>\n",
              "    </tr>\n",
              "  </thead>\n",
              "  <tbody>\n",
              "    <tr>\n",
              "      <th>0</th>\n",
              "      <td>5</td>\n",
              "      <td>3</td>\n",
              "      <td>F9</td>\n",
              "      <td>N208FR</td>\n",
              "      <td>LAS</td>\n",
              "      <td>DEN</td>\n",
              "      <td>14.0</td>\n",
              "      <td>110.0</td>\n",
              "      <td>628</td>\n",
              "      <td>12.0</td>\n",
              "      <td>0</td>\n",
              "      <td>0</td>\n",
              "      <td>[1000,1200)</td>\n",
              "      <td>[1200,1400)</td>\n",
              "    </tr>\n",
              "    <tr>\n",
              "      <th>1</th>\n",
              "      <td>10</td>\n",
              "      <td>7</td>\n",
              "      <td>MQ</td>\n",
              "      <td>N697MQ</td>\n",
              "      <td>11980</td>\n",
              "      <td>11298</td>\n",
              "      <td>-11.0</td>\n",
              "      <td>111.0</td>\n",
              "      <td>561</td>\n",
              "      <td>-29.0</td>\n",
              "      <td>0</td>\n",
              "      <td>0</td>\n",
              "      <td>[1400,1600)</td>\n",
              "      <td>[1400,1600)</td>\n",
              "    </tr>\n",
              "    <tr>\n",
              "      <th>2</th>\n",
              "      <td>12</td>\n",
              "      <td>7</td>\n",
              "      <td>DL</td>\n",
              "      <td>N990AT</td>\n",
              "      <td>SDF</td>\n",
              "      <td>ATL</td>\n",
              "      <td>7.0</td>\n",
              "      <td>95.0</td>\n",
              "      <td>321</td>\n",
              "      <td>4.0</td>\n",
              "      <td>0</td>\n",
              "      <td>0</td>\n",
              "      <td>[1600,1800)</td>\n",
              "      <td>[1800,2000)</td>\n",
              "    </tr>\n",
              "    <tr>\n",
              "      <th>3</th>\n",
              "      <td>2</td>\n",
              "      <td>1</td>\n",
              "      <td>NK</td>\n",
              "      <td>N529NK</td>\n",
              "      <td>DEN</td>\n",
              "      <td>LAS</td>\n",
              "      <td>-4.0</td>\n",
              "      <td>115.0</td>\n",
              "      <td>628</td>\n",
              "      <td>2.0</td>\n",
              "      <td>0</td>\n",
              "      <td>0</td>\n",
              "      <td>[1000,1200)</td>\n",
              "      <td>[1200,1400)</td>\n",
              "    </tr>\n",
              "    <tr>\n",
              "      <th>4</th>\n",
              "      <td>11</td>\n",
              "      <td>1</td>\n",
              "      <td>HA</td>\n",
              "      <td>N477HA</td>\n",
              "      <td>OGG</td>\n",
              "      <td>LIH</td>\n",
              "      <td>-3.0</td>\n",
              "      <td>47.0</td>\n",
              "      <td>201</td>\n",
              "      <td>-1.0</td>\n",
              "      <td>0</td>\n",
              "      <td>0</td>\n",
              "      <td>[1000,1200)</td>\n",
              "      <td>[1200,1400)</td>\n",
              "    </tr>\n",
              "  </tbody>\n",
              "</table>\n",
              "</div>"
            ],
            "text/plain": [
              "  MONTH DAY_OF_WEEK  ... SCHEDULED_DEPARTURE_BINNED SCHEDULED_ARRIVAL_BINNED\n",
              "0     5           3  ...                [1000,1200)              [1200,1400)\n",
              "1    10           7  ...                [1400,1600)              [1400,1600)\n",
              "2    12           7  ...                [1600,1800)              [1800,2000)\n",
              "3     2           1  ...                [1000,1200)              [1200,1400)\n",
              "4    11           1  ...                [1000,1200)              [1200,1400)\n",
              "\n",
              "[5 rows x 14 columns]"
            ]
          },
          "metadata": {
            "tags": []
          },
          "execution_count": 20
        }
      ]
    },
    {
      "cell_type": "code",
      "metadata": {
        "id": "D5j06WYp9trR",
        "colab_type": "code",
        "outputId": "108ead48-8fad-4437-f549-482117f270d4",
        "colab": {
          "base_uri": "https://localhost:8080/",
          "height": 255
        }
      },
      "source": [
        "pip install geopandas"
      ],
      "execution_count": 21,
      "outputs": [
        {
          "output_type": "stream",
          "text": [
            "Requirement already satisfied: geopandas in /usr/local/lib/python3.6/dist-packages (0.6.2)\n",
            "Requirement already satisfied: pandas>=0.23.0 in /usr/local/lib/python3.6/dist-packages (from geopandas) (0.25.3)\n",
            "Requirement already satisfied: shapely in /usr/local/lib/python3.6/dist-packages (from geopandas) (1.6.4.post2)\n",
            "Requirement already satisfied: fiona in /usr/local/lib/python3.6/dist-packages (from geopandas) (1.8.13)\n",
            "Requirement already satisfied: pyproj in /usr/local/lib/python3.6/dist-packages (from geopandas) (2.4.2.post1)\n",
            "Requirement already satisfied: python-dateutil>=2.6.1 in /usr/local/lib/python3.6/dist-packages (from pandas>=0.23.0->geopandas) (2.6.1)\n",
            "Requirement already satisfied: pytz>=2017.2 in /usr/local/lib/python3.6/dist-packages (from pandas>=0.23.0->geopandas) (2018.9)\n",
            "Requirement already satisfied: numpy>=1.13.3 in /usr/local/lib/python3.6/dist-packages (from pandas>=0.23.0->geopandas) (1.17.5)\n",
            "Requirement already satisfied: attrs>=17 in /usr/local/lib/python3.6/dist-packages (from fiona->geopandas) (19.3.0)\n",
            "Requirement already satisfied: six>=1.7 in /usr/local/lib/python3.6/dist-packages (from fiona->geopandas) (1.12.0)\n",
            "Requirement already satisfied: cligj>=0.5 in /usr/local/lib/python3.6/dist-packages (from fiona->geopandas) (0.5.0)\n",
            "Requirement already satisfied: click-plugins>=1.0 in /usr/local/lib/python3.6/dist-packages (from fiona->geopandas) (1.1.1)\n",
            "Requirement already satisfied: click<8,>=4.0 in /usr/local/lib/python3.6/dist-packages (from fiona->geopandas) (7.0)\n",
            "Requirement already satisfied: munch in /usr/local/lib/python3.6/dist-packages (from fiona->geopandas) (2.5.0)\n"
          ],
          "name": "stdout"
        }
      ]
    },
    {
      "cell_type": "code",
      "metadata": {
        "id": "Lts7EhsnAsX0",
        "colab_type": "code",
        "colab": {}
      },
      "source": [
        "import geopandas"
      ],
      "execution_count": 0,
      "outputs": []
    },
    {
      "cell_type": "code",
      "metadata": {
        "id": "3doW6H3lCeZB",
        "colab_type": "code",
        "colab": {}
      },
      "source": [
        "from shapely.geometry import Point, Polygon"
      ],
      "execution_count": 0,
      "outputs": []
    },
    {
      "cell_type": "code",
      "metadata": {
        "id": "-vdUt0dgAyJG",
        "colab_type": "code",
        "colab": {}
      },
      "source": [
        "usa = geopandas.read_file(\"states.shp\")"
      ],
      "execution_count": 0,
      "outputs": []
    },
    {
      "cell_type": "code",
      "metadata": {
        "id": "u-b3-WSBjM9J",
        "colab_type": "code",
        "colab": {}
      },
      "source": [
        "airports = geopandas.read_file(\"airports.shp\")"
      ],
      "execution_count": 0,
      "outputs": []
    },
    {
      "cell_type": "code",
      "metadata": {
        "id": "fQeqZNnHBWhN",
        "colab_type": "code",
        "outputId": "d78de49a-208b-4dc1-ae1a-584d2bcce80b",
        "colab": {
          "base_uri": "https://localhost:8080/",
          "height": 223
        }
      },
      "source": [
        "usa.plot()"
      ],
      "execution_count": 26,
      "outputs": [
        {
          "output_type": "execute_result",
          "data": {
            "text/plain": [
              "<matplotlib.axes._subplots.AxesSubplot at 0x7fdbc19c20b8>"
            ]
          },
          "metadata": {
            "tags": []
          },
          "execution_count": 26
        },
        {
          "output_type": "display_data",
          "data": {
            "image/png": "[encoded data removed]",
            "text/plain": [
              "<Figure size 432x288 with 1 Axes>"
            ]
          },
          "metadata": {
            "tags": []
          }
        }
      ]
    },
    {
      "cell_type": "code",
      "metadata": {
        "id": "ErQyw6GhjqgC",
        "colab_type": "code",
        "outputId": "8dfcaba2-c4fa-4f82-f458-47ff6a57aa7a",
        "colab": {
          "base_uri": "https://localhost:8080/",
          "height": 204
        }
      },
      "source": [
        "airports.tail()"
      ],
      "execution_count": 27,
      "outputs": [
        {
          "output_type": "execute_result",
          "data": {
            "text/html": [
              "<div>\n",
              "<style scoped>\n",
              "    .dataframe tbody tr th:only-of-type {\n",
              "        vertical-align: middle;\n",
              "    }\n",
              "\n",
              "    .dataframe tbody tr th {\n",
              "        vertical-align: top;\n",
              "    }\n",
              "\n",
              "    .dataframe thead th {\n",
              "        text-align: right;\n",
              "    }\n",
              "</style>\n",
              "<table border=\"1\" class=\"dataframe\">\n",
              "  <thead>\n",
              "    <tr style=\"text-align: right;\">\n",
              "      <th></th>\n",
              "      <th>geometry</th>\n",
              "    </tr>\n",
              "  </thead>\n",
              "  <tbody>\n",
              "    <tr>\n",
              "      <th>1875</th>\n",
              "      <td>POINT (-164.68566 60.47032)</td>\n",
              "    </tr>\n",
              "    <tr>\n",
              "      <th>1876</th>\n",
              "      <td>POINT (-162.52483 60.87202)</td>\n",
              "    </tr>\n",
              "    <tr>\n",
              "      <th>1877</th>\n",
              "      <td>POINT (-164.49107 62.78519)</td>\n",
              "    </tr>\n",
              "    <tr>\n",
              "      <th>1878</th>\n",
              "      <td>POINT (-168.09919 65.62394)</td>\n",
              "    </tr>\n",
              "    <tr>\n",
              "      <th>1879</th>\n",
              "      <td>POINT (-65.30432 18.31329)</td>\n",
              "    </tr>\n",
              "  </tbody>\n",
              "</table>\n",
              "</div>"
            ],
            "text/plain": [
              "                         geometry\n",
              "1875  POINT (-164.68566 60.47032)\n",
              "1876  POINT (-162.52483 60.87202)\n",
              "1877  POINT (-164.49107 62.78519)\n",
              "1878  POINT (-168.09919 65.62394)\n",
              "1879   POINT (-65.30432 18.31329)"
            ]
          },
          "metadata": {
            "tags": []
          },
          "execution_count": 27
        }
      ]
    },
    {
      "cell_type": "code",
      "metadata": {
        "id": "T_a3yX8tj26f",
        "colab_type": "code",
        "colab": {}
      },
      "source": [
        "airport_total_arrival_delay = df.groupby(\"ORIGIN_AIRPORT\").ARRIVAL_DELAY.apply(lambda delays : delays.mean())"
      ],
      "execution_count": 0,
      "outputs": []
    },
    {
      "cell_type": "code",
      "metadata": {
        "id": "sTdg5Yku-oTO",
        "colab_type": "code",
        "colab": {}
      },
      "source": [
        "airport_total_arrival_delay.sort_values(ascending=False,inplace=True)"
      ],
      "execution_count": 0,
      "outputs": []
    },
    {
      "cell_type": "code",
      "metadata": {
        "id": "ijwHzM5c_rVT",
        "colab_type": "code",
        "colab": {}
      },
      "source": [
        "airport_arrival_matrix = np.array(airport_total_arrival_delay.index[:-4]).reshape(24,26)"
      ],
      "execution_count": 0,
      "outputs": []
    },
    {
      "cell_type": "code",
      "metadata": {
        "id": "l2TRElQhDSSW",
        "colab_type": "code",
        "colab": {
          "base_uri": "https://localhost:8080/",
          "height": 85
        },
        "outputId": "ea20cb40-d06f-42e0-d201-a5a0b6ecd8a9"
      },
      "source": [
        "airport_arrival_matrix[-1]"
      ],
      "execution_count": 31,
      "outputs": [
        {
          "output_type": "execute_result",
          "data": {
            "text/plain": [
              "array(['11274', '13061', '14674', '11525', '11049', '13502', 'DIK',\n",
              "       '12511', '14960', '12335', '11413', '10779', '13290', '11980',\n",
              "       '15048', '10136', 'HYA', '11067', '11648', '12343', '13127',\n",
              "       '14487', '10747', '14543', '10155', '11867'], dtype=object)"
            ]
          },
          "metadata": {
            "tags": []
          },
          "execution_count": 31
        }
      ]
    },
    {
      "cell_type": "code",
      "metadata": {
        "id": "L56tQCaOEpPF",
        "colab_type": "code",
        "colab": {
          "base_uri": "https://localhost:8080/",
          "height": 34
        },
        "outputId": "32320b62-2ade-403c-a610-74fc44a4148f"
      },
      "source": [
        "leftoverAirports = airport_total_arrival_delay.index[-4:]\n",
        "leftoverAirports"
      ],
      "execution_count": 32,
      "outputs": [
        {
          "output_type": "execute_result",
          "data": {
            "text/plain": [
              "Index(['12094', '10268', 'CNY', '11503'], dtype='object', name='ORIGIN_AIRPORT')"
            ]
          },
          "metadata": {
            "tags": []
          },
          "execution_count": 32
        }
      ]
    },
    {
      "cell_type": "code",
      "metadata": {
        "id": "JPjGNZrrFQEz",
        "colab_type": "code",
        "colab": {}
      },
      "source": [
        "airport_arrival_matrix = np.append(airport_arrival_matrix,np.zeros((len(airport_arrival_matrix),4)),axis=1)"
      ],
      "execution_count": 0,
      "outputs": []
    },
    {
      "cell_type": "code",
      "metadata": {
        "id": "NR2Y5PgDG-zi",
        "colab_type": "code",
        "colab": {}
      },
      "source": [
        "airport_arrival_matrix[-1][-4:] = leftoverAirports"
      ],
      "execution_count": 0,
      "outputs": []
    },
    {
      "cell_type": "code",
      "metadata": {
        "id": "uCeGStSuHPse",
        "colab_type": "code",
        "colab": {
          "base_uri": "https://localhost:8080/",
          "height": 102
        },
        "outputId": "84295d1d-dc7a-4875-ef85-8e0e033d460a"
      },
      "source": [
        "airport_arrival_matrix[-1]"
      ],
      "execution_count": 35,
      "outputs": [
        {
          "output_type": "execute_result",
          "data": {
            "text/plain": [
              "array(['11274', '13061', '14674', '11525', '11049', '13502', 'DIK',\n",
              "       '12511', '14960', '12335', '11413', '10779', '13290', '11980',\n",
              "       '15048', '10136', 'HYA', '11067', '11648', '12343', '13127',\n",
              "       '14487', '10747', '14543', '10155', '11867', '12094', '10268',\n",
              "       'CNY', '11503'], dtype=object)"
            ]
          },
          "metadata": {
            "tags": []
          },
          "execution_count": 35
        }
      ]
    },
    {
      "cell_type": "code",
      "metadata": {
        "id": "OpKAv8knHu9t",
        "colab_type": "code",
        "colab": {}
      },
      "source": [
        "airport_binned_list = []\n",
        "for origin in df[\"ORIGIN_AIRPORT\"]:\n",
        "  for i in range(len(airport_arrival_matrix)):\n",
        "    if(origin in airport_arrival_matrix[i]):\n",
        "      airport_binned_list.append(i)\n"
      ],
      "execution_count": 0,
      "outputs": []
    },
    {
      "cell_type": "code",
      "metadata": {
        "id": "xyQ7GA7tJGr8",
        "colab_type": "code",
        "colab": {}
      },
      "source": [
        "airport_binned_list = pd.Series(airport_binned_list,name=\"ORIGIN_AIRPORT_ARRIVAL_BINNED\")"
      ],
      "execution_count": 0,
      "outputs": []
    },
    {
      "cell_type": "code",
      "metadata": {
        "id": "VUnJst3JJJjZ",
        "colab_type": "code",
        "colab": {}
      },
      "source": [
        "df = pd.concat([df,airport_binned_list],axis=1)"
      ],
      "execution_count": 0,
      "outputs": []
    },
    {
      "cell_type": "code",
      "metadata": {
        "id": "Bd8jU33QJQIP",
        "colab_type": "code",
        "colab": {}
      },
      "source": [
        "airport_total_departure_delay = df.groupby(\"ORIGIN_AIRPORT\").DEPARTURE_DELAY.apply(lambda delays : delays.mean())"
      ],
      "execution_count": 0,
      "outputs": []
    },
    {
      "cell_type": "code",
      "metadata": {
        "id": "y9RLKqI1NpG4",
        "colab_type": "code",
        "colab": {}
      },
      "source": [
        "airport_total_departure_delay.sort_values(ascending=False,inplace=True)"
      ],
      "execution_count": 0,
      "outputs": []
    },
    {
      "cell_type": "code",
      "metadata": {
        "id": "207uUDTuN-DY",
        "colab_type": "code",
        "colab": {}
      },
      "source": [
        "airport_departure_matrix = np.array(airport_total_departure_delay.index[:-4]).reshape(24,26)"
      ],
      "execution_count": 0,
      "outputs": []
    },
    {
      "cell_type": "code",
      "metadata": {
        "id": "bkBtq-bsOOc1",
        "colab_type": "code",
        "colab": {}
      },
      "source": [
        "leftoverAirports = airport_total_departure_delay.index[-4:]"
      ],
      "execution_count": 0,
      "outputs": []
    },
    {
      "cell_type": "code",
      "metadata": {
        "id": "QleCzIhIOavw",
        "colab_type": "code",
        "colab": {}
      },
      "source": [
        "airport_departure_matrix = np.append(airport_departure_matrix,np.zeros((len(airport_departure_matrix),4)),axis=1)"
      ],
      "execution_count": 0,
      "outputs": []
    },
    {
      "cell_type": "code",
      "metadata": {
        "id": "S5k3UjfcO91V",
        "colab_type": "code",
        "colab": {}
      },
      "source": [
        "airport_departure_matrix[-1][-4:] = leftoverAirports"
      ],
      "execution_count": 0,
      "outputs": []
    },
    {
      "cell_type": "code",
      "metadata": {
        "id": "CYeUuTD_PF6g",
        "colab_type": "code",
        "colab": {
          "base_uri": "https://localhost:8080/",
          "height": 102
        },
        "outputId": "a5098050-ebec-4b07-e2fa-eaccea1e69d0"
      },
      "source": [
        "airport_departure_matrix[-1]"
      ],
      "execution_count": 45,
      "outputs": [
        {
          "output_type": "execute_result",
          "data": {
            "text/plain": [
              "array(['BLI', '13433', '14006', '12898', '14711', '14543', '12129',\n",
              "       '10268', '15295', '12156', '15041', 'PIH', '11630', '11413',\n",
              "       '13502', '11648', '14113', '10779', 'VEL', '10469', '15497',\n",
              "       '12511', '11867', '10333', '12519', '10170', '12094', '11525',\n",
              "       '10165', '12343'], dtype=object)"
            ]
          },
          "metadata": {
            "tags": []
          },
          "execution_count": 45
        }
      ]
    },
    {
      "cell_type": "code",
      "metadata": {
        "id": "ss4pShU4PRkQ",
        "colab_type": "code",
        "colab": {}
      },
      "source": [
        "airport_binned_list = []\n",
        "for origin in df[\"ORIGIN_AIRPORT\"]:\n",
        "  for i in range(len(airport_departure_matrix)):\n",
        "    if(origin in airport_departure_matrix[i]):\n",
        "      airport_binned_list.append(i)\n"
      ],
      "execution_count": 0,
      "outputs": []
    },
    {
      "cell_type": "code",
      "metadata": {
        "id": "nv_MgSn-PcQq",
        "colab_type": "code",
        "colab": {}
      },
      "source": [
        "departure_origin_binned = pd.Series(airport_binned_list, name=\"ORIGIN_AIRPORT_DEPARTURE_BINNED\",dtype=int)"
      ],
      "execution_count": 0,
      "outputs": []
    },
    {
      "cell_type": "code",
      "metadata": {
        "id": "AZiDTrXaQaYm",
        "colab_type": "code",
        "colab": {}
      },
      "source": [
        "df = pd.concat([df,departure_origin_binned],axis=1)"
      ],
      "execution_count": 0,
      "outputs": []
    },
    {
      "cell_type": "code",
      "metadata": {
        "id": "PxctdLTMQfQI",
        "colab_type": "code",
        "colab": {
          "base_uri": "https://localhost:8080/",
          "height": 34
        },
        "outputId": "db41991a-fc93-44b9-e06a-05263dea2f95"
      },
      "source": [
        "df[\"ORIGIN_AIRPORT\"][1]"
      ],
      "execution_count": 49,
      "outputs": [
        {
          "output_type": "execute_result",
          "data": {
            "text/plain": [
              "'11980'"
            ]
          },
          "metadata": {
            "tags": []
          },
          "execution_count": 49
        }
      ]
    },
    {
      "cell_type": "code",
      "metadata": {
        "id": "NmniOn8rizk8",
        "colab_type": "code",
        "colab": {}
      },
      "source": [
        "airport_total_arrival_delay = df.groupby(\"DESTINATION_AIRPORT\").ARRIVAL_DELAY.apply(lambda delays : delays.mean())"
      ],
      "execution_count": 0,
      "outputs": []
    },
    {
      "cell_type": "code",
      "metadata": {
        "id": "K4DzG03mjH3x",
        "colab_type": "code",
        "colab": {}
      },
      "source": [
        "airport_total_arrival_delay.sort_values(ascending=False,inplace=True)"
      ],
      "execution_count": 0,
      "outputs": []
    },
    {
      "cell_type": "code",
      "metadata": {
        "id": "IUZJLPqFkfjS",
        "colab_type": "code",
        "colab": {}
      },
      "source": [
        "destination_arrival_matrix = np.array(airport_total_arrival_delay.index[:-1]).reshape(25,25)"
      ],
      "execution_count": 0,
      "outputs": []
    },
    {
      "cell_type": "code",
      "metadata": {
        "id": "Dbvr0yv4k_G6",
        "colab_type": "code",
        "colab": {}
      },
      "source": [
        "destination_arrival_matrix = np.append(destination_arrival_matrix,np.zeros((len(destination_arrival_matrix),1),dtype=int),axis=1)"
      ],
      "execution_count": 0,
      "outputs": []
    },
    {
      "cell_type": "code",
      "metadata": {
        "id": "TjW1SZ9Ql0Ga",
        "colab_type": "code",
        "colab": {}
      },
      "source": [
        "destination_arrival_matrix[-1][-1] = airport_total_arrival_delay.index[-1]"
      ],
      "execution_count": 0,
      "outputs": []
    },
    {
      "cell_type": "code",
      "metadata": {
        "id": "beqOJDtvl7Mb",
        "colab_type": "code",
        "colab": {}
      },
      "source": [
        "airport_binned_list = []\n",
        "for destination in df[\"DESTINATION_AIRPORT\"]:\n",
        "  for i in range(len(destination_arrival_matrix)):\n",
        "    if(destination in destination_arrival_matrix[i]):\n",
        "      airport_binned_list.append(i)\n"
      ],
      "execution_count": 0,
      "outputs": []
    },
    {
      "cell_type": "code",
      "metadata": {
        "id": "iTPXzvxTm_ap",
        "colab_type": "code",
        "colab": {}
      },
      "source": [
        "airport_binned_list = pd.Series(airport_binned_list,name=\"DESTINATION_AIRPORT_ARRIVAL_BINNED\")"
      ],
      "execution_count": 0,
      "outputs": []
    },
    {
      "cell_type": "code",
      "metadata": {
        "id": "TNMgQHXInQ_m",
        "colab_type": "code",
        "colab": {}
      },
      "source": [
        "df = pd.concat([df,airport_binned_list],axis=1)"
      ],
      "execution_count": 0,
      "outputs": []
    },
    {
      "cell_type": "code",
      "metadata": {
        "id": "dG3JYgZ2nVWs",
        "colab_type": "code",
        "colab": {
          "base_uri": "https://localhost:8080/",
          "height": 224
        },
        "outputId": "0b703b4f-cf4f-46d7-b0ec-8e4207af2992"
      },
      "source": [
        "df.head()"
      ],
      "execution_count": 58,
      "outputs": [
        {
          "output_type": "execute_result",
          "data": {
            "text/html": [
              "<div>\n",
              "<style scoped>\n",
              "    .dataframe tbody tr th:only-of-type {\n",
              "        vertical-align: middle;\n",
              "    }\n",
              "\n",
              "    .dataframe tbody tr th {\n",
              "        vertical-align: top;\n",
              "    }\n",
              "\n",
              "    .dataframe thead th {\n",
              "        text-align: right;\n",
              "    }\n",
              "</style>\n",
              "<table border=\"1\" class=\"dataframe\">\n",
              "  <thead>\n",
              "    <tr style=\"text-align: right;\">\n",
              "      <th></th>\n",
              "      <th>MONTH</th>\n",
              "      <th>DAY_OF_WEEK</th>\n",
              "      <th>AIRLINE</th>\n",
              "      <th>TAIL_NUMBER</th>\n",
              "      <th>ORIGIN_AIRPORT</th>\n",
              "      <th>DESTINATION_AIRPORT</th>\n",
              "      <th>DEPARTURE_DELAY</th>\n",
              "      <th>SCHEDULED_TIME</th>\n",
              "      <th>DISTANCE</th>\n",
              "      <th>ARRIVAL_DELAY</th>\n",
              "      <th>DIVERTED</th>\n",
              "      <th>CANCELLED</th>\n",
              "      <th>SCHEDULED_DEPARTURE_BINNED</th>\n",
              "      <th>SCHEDULED_ARRIVAL_BINNED</th>\n",
              "      <th>ORIGIN_AIRPORT_ARRIVAL_BINNED</th>\n",
              "      <th>ORIGIN_AIRPORT_DEPARTURE_BINNED</th>\n",
              "      <th>DESTINATION_AIRPORT_ARRIVAL_BINNED</th>\n",
              "    </tr>\n",
              "  </thead>\n",
              "  <tbody>\n",
              "    <tr>\n",
              "      <th>0</th>\n",
              "      <td>5</td>\n",
              "      <td>3</td>\n",
              "      <td>F9</td>\n",
              "      <td>N208FR</td>\n",
              "      <td>LAS</td>\n",
              "      <td>DEN</td>\n",
              "      <td>14.0</td>\n",
              "      <td>110.0</td>\n",
              "      <td>628</td>\n",
              "      <td>12.0</td>\n",
              "      <td>0</td>\n",
              "      <td>0</td>\n",
              "      <td>[1000,1200)</td>\n",
              "      <td>[1200,1400)</td>\n",
              "      <td>4</td>\n",
              "      <td>1</td>\n",
              "      <td>10</td>\n",
              "    </tr>\n",
              "    <tr>\n",
              "      <th>1</th>\n",
              "      <td>10</td>\n",
              "      <td>7</td>\n",
              "      <td>MQ</td>\n",
              "      <td>N697MQ</td>\n",
              "      <td>11980</td>\n",
              "      <td>11298</td>\n",
              "      <td>-11.0</td>\n",
              "      <td>111.0</td>\n",
              "      <td>561</td>\n",
              "      <td>-29.0</td>\n",
              "      <td>0</td>\n",
              "      <td>0</td>\n",
              "      <td>[1400,1600)</td>\n",
              "      <td>[1400,1600)</td>\n",
              "      <td>23</td>\n",
              "      <td>22</td>\n",
              "      <td>21</td>\n",
              "    </tr>\n",
              "    <tr>\n",
              "      <th>2</th>\n",
              "      <td>12</td>\n",
              "      <td>7</td>\n",
              "      <td>DL</td>\n",
              "      <td>N990AT</td>\n",
              "      <td>SDF</td>\n",
              "      <td>ATL</td>\n",
              "      <td>7.0</td>\n",
              "      <td>95.0</td>\n",
              "      <td>321</td>\n",
              "      <td>4.0</td>\n",
              "      <td>0</td>\n",
              "      <td>0</td>\n",
              "      <td>[1600,1800)</td>\n",
              "      <td>[1800,2000)</td>\n",
              "      <td>11</td>\n",
              "      <td>5</td>\n",
              "      <td>16</td>\n",
              "    </tr>\n",
              "    <tr>\n",
              "      <th>3</th>\n",
              "      <td>2</td>\n",
              "      <td>1</td>\n",
              "      <td>NK</td>\n",
              "      <td>N529NK</td>\n",
              "      <td>DEN</td>\n",
              "      <td>LAS</td>\n",
              "      <td>-4.0</td>\n",
              "      <td>115.0</td>\n",
              "      <td>628</td>\n",
              "      <td>2.0</td>\n",
              "      <td>0</td>\n",
              "      <td>0</td>\n",
              "      <td>[1000,1200)</td>\n",
              "      <td>[1200,1400)</td>\n",
              "      <td>2</td>\n",
              "      <td>1</td>\n",
              "      <td>10</td>\n",
              "    </tr>\n",
              "    <tr>\n",
              "      <th>4</th>\n",
              "      <td>11</td>\n",
              "      <td>1</td>\n",
              "      <td>HA</td>\n",
              "      <td>N477HA</td>\n",
              "      <td>OGG</td>\n",
              "      <td>LIH</td>\n",
              "      <td>-3.0</td>\n",
              "      <td>47.0</td>\n",
              "      <td>201</td>\n",
              "      <td>-1.0</td>\n",
              "      <td>0</td>\n",
              "      <td>0</td>\n",
              "      <td>[1000,1200)</td>\n",
              "      <td>[1200,1400)</td>\n",
              "      <td>10</td>\n",
              "      <td>12</td>\n",
              "      <td>15</td>\n",
              "    </tr>\n",
              "  </tbody>\n",
              "</table>\n",
              "</div>"
            ],
            "text/plain": [
              "  MONTH  ... DESTINATION_AIRPORT_ARRIVAL_BINNED\n",
              "0     5  ...                                 10\n",
              "1    10  ...                                 21\n",
              "2    12  ...                                 16\n",
              "3     2  ...                                 10\n",
              "4    11  ...                                 15\n",
              "\n",
              "[5 rows x 17 columns]"
            ]
          },
          "metadata": {
            "tags": []
          },
          "execution_count": 58
        }
      ]
    },
    {
      "cell_type": "code",
      "metadata": {
        "id": "v62LuaCCpuaR",
        "colab_type": "code",
        "colab": {}
      },
      "source": [
        "airport_total_departure_delay = df.groupby(\"DESTINATION_AIRPORT\").DEPARTURE_DELAY.apply(lambda delays : delays.mean())"
      ],
      "execution_count": 0,
      "outputs": []
    },
    {
      "cell_type": "code",
      "metadata": {
        "id": "7IllU08dp2FF",
        "colab_type": "code",
        "colab": {}
      },
      "source": [
        "airport_total_departure_delay.sort_values(ascending=False,inplace=True)"
      ],
      "execution_count": 0,
      "outputs": []
    },
    {
      "cell_type": "code",
      "metadata": {
        "id": "K6CXOt5YqDw6",
        "colab_type": "code",
        "colab": {}
      },
      "source": [
        "destination_departure_matrix = np.array(airport_total_departure_delay.index[:-1]).reshape(25,25)"
      ],
      "execution_count": 0,
      "outputs": []
    },
    {
      "cell_type": "code",
      "metadata": {
        "id": "uXbd1ZcBqZJc",
        "colab_type": "code",
        "colab": {}
      },
      "source": [
        "destination_departure_matrix = np.append(destination_departure_matrix,np.zeros((25,1),dtype=int),axis=1)"
      ],
      "execution_count": 0,
      "outputs": []
    },
    {
      "cell_type": "code",
      "metadata": {
        "id": "xVBjpQBEq2A2",
        "colab_type": "code",
        "colab": {}
      },
      "source": [
        "destination_departure_matrix[-1][-1] = airport_total_departure_delay.index[-1]"
      ],
      "execution_count": 0,
      "outputs": []
    },
    {
      "cell_type": "code",
      "metadata": {
        "id": "gkoJGVcoriu5",
        "colab_type": "code",
        "colab": {
          "base_uri": "https://localhost:8080/",
          "height": 85
        },
        "outputId": "db173af9-0ced-40de-b2af-1c45da061bbe"
      },
      "source": [
        "destination_departure_matrix[-1]"
      ],
      "execution_count": 64,
      "outputs": [
        {
          "output_type": "execute_result",
          "data": {
            "text/plain": [
              "array(['12389', '13127', '10155', '10268', '14543', 'BTM', '10631', 'CDC',\n",
              "       '10170', 'CNY', '13541', '12343', '11905', 'VEL', '15389', '14709',\n",
              "       '12888', '11587', '11097', '12335', 'DLG', '10333', '10918',\n",
              "       '11076', '11447', '11525'], dtype=object)"
            ]
          },
          "metadata": {
            "tags": []
          },
          "execution_count": 64
        }
      ]
    },
    {
      "cell_type": "code",
      "metadata": {
        "id": "P_DV4A75rn7X",
        "colab_type": "code",
        "colab": {}
      },
      "source": [
        "airport_binned_list = []\n",
        "for destination in df[\"DESTINATION_AIRPORT\"]:\n",
        "  for i in range(len(destination_departure_matrix)):\n",
        "    if(destination in destination_departure_matrix[i]):\n",
        "      airport_binned_list.append(i)"
      ],
      "execution_count": 0,
      "outputs": []
    },
    {
      "cell_type": "code",
      "metadata": {
        "id": "ZtamyY2y1kUi",
        "colab_type": "code",
        "colab": {}
      },
      "source": [
        "airport_binned_list = pd.Series(airport_binned_list,name=\"DESTINATION_AIRPORT_DEPARTURE_BINNED\")"
      ],
      "execution_count": 0,
      "outputs": []
    },
    {
      "cell_type": "code",
      "metadata": {
        "id": "8f9JtJM113O3",
        "colab_type": "code",
        "colab": {}
      },
      "source": [
        "df = pd.concat([df,airport_binned_list],axis=1)"
      ],
      "execution_count": 0,
      "outputs": []
    },
    {
      "cell_type": "code",
      "metadata": {
        "id": "1b6HlHXN16rS",
        "colab_type": "code",
        "colab": {}
      },
      "source": [
        "df.to_csv(\"flights_20.csv\")"
      ],
      "execution_count": 0,
      "outputs": []
    },
    {
      "cell_type": "code",
      "metadata": {
        "id": "u0yv-jbh3XGW",
        "colab_type": "code",
        "colab": {}
      },
      "source": [
        "#tail numbers binning"
      ],
      "execution_count": 0,
      "outputs": []
    },
    {
      "cell_type": "code",
      "metadata": {
        "id": "QCBPP7n4_uCK",
        "colab_type": "code",
        "colab": {}
      },
      "source": [
        "df = pd.read_csv(\"flights_20.csv\")"
      ],
      "execution_count": 0,
      "outputs": []
    },
    {
      "cell_type": "code",
      "metadata": {
        "id": "4fpXwmvL3aN7",
        "colab_type": "code",
        "colab": {}
      },
      "source": [
        "tail_departure_groups = df.groupby(\"TAIL_NUMBER\").DEPARTURE_DELAY.apply(lambda delays : delays.mean())"
      ],
      "execution_count": 0,
      "outputs": []
    },
    {
      "cell_type": "code",
      "metadata": {
        "id": "Fw-CBLyp8rIS",
        "colab_type": "code",
        "colab": {}
      },
      "source": [
        "tail_departure_groups.sort_values(ascending=False,inplace=True)"
      ],
      "execution_count": 0,
      "outputs": []
    },
    {
      "cell_type": "code",
      "metadata": {
        "id": "a8_JpXqK82gd",
        "colab_type": "code",
        "colab": {}
      },
      "source": [
        "tail_departure_matrix = np.array(tail_departure_groups.index).reshape(40,121)"
      ],
      "execution_count": 0,
      "outputs": []
    },
    {
      "cell_type": "code",
      "metadata": {
        "id": "QgdgDAyW9TC3",
        "colab_type": "code",
        "colab": {}
      },
      "source": [
        "def tail_binning_departure2(tail_number):\n",
        "    for i in range(len(tail_departure_matrix)):\n",
        "      if(tail_number in tail_departure_matrix[i]):\n",
        "        return i\n"
      ],
      "execution_count": 0,
      "outputs": []
    },
    {
      "cell_type": "code",
      "metadata": {
        "id": "7wxktNmVAxqM",
        "colab_type": "code",
        "colab": {}
      },
      "source": [
        "pool = Pool(4)\n",
        "tail_departure_binned = pool.map(tail_binning_departure2,df[\"TAIL_NUMBER\"])"
      ],
      "execution_count": 0,
      "outputs": []
    },
    {
      "cell_type": "code",
      "metadata": {
        "id": "be78h1evB_NX",
        "colab_type": "code",
        "colab": {}
      },
      "source": [
        "tail_departure_binned = pd.Series(tail_departure_binned,name=\"TAIL_NUMBERS_DEPARTURE_BINNED\")"
      ],
      "execution_count": 0,
      "outputs": []
    },
    {
      "cell_type": "code",
      "metadata": {
        "id": "UeYRX1edKpCC",
        "colab_type": "code",
        "colab": {}
      },
      "source": [
        "df = pd.concat([df,tail_departure_binned],axis=1).drop(\"Unnamed: 0\",axis=1)"
      ],
      "execution_count": 0,
      "outputs": []
    },
    {
      "cell_type": "code",
      "metadata": {
        "id": "DgCq823aBHE1",
        "colab_type": "code",
        "colab": {}
      },
      "source": [
        "tail_arrival_groups = df.groupby(\"TAIL_NUMBER\").ARRIVAL_DELAY.apply(lambda delays : delays.mean())"
      ],
      "execution_count": 0,
      "outputs": []
    },
    {
      "cell_type": "code",
      "metadata": {
        "id": "6WGJ3Jn7BL-d",
        "colab_type": "code",
        "colab": {}
      },
      "source": [
        "tail_arrival_groups.sort_values(ascending=False,inplace=True)"
      ],
      "execution_count": 0,
      "outputs": []
    },
    {
      "cell_type": "code",
      "metadata": {
        "id": "x_YiLz_gLNB0",
        "colab_type": "code",
        "colab": {}
      },
      "source": [
        "tail_arrival_matrix = np.array(tail_arrival_groups.index).reshape(40,121)"
      ],
      "execution_count": 0,
      "outputs": []
    },
    {
      "cell_type": "code",
      "metadata": {
        "id": "VwsCVCQQLUip",
        "colab_type": "code",
        "colab": {}
      },
      "source": [
        "def tail_binning_arrival(tail_number):\n",
        "    for i in range(len(tail_arrival_matrix)):\n",
        "      if(tail_number in tail_arrival_matrix[i]):\n",
        "        return i"
      ],
      "execution_count": 0,
      "outputs": []
    },
    {
      "cell_type": "code",
      "metadata": {
        "id": "FrEVc_oeLbb5",
        "colab_type": "code",
        "colab": {}
      },
      "source": [
        "tail_arrival_binned = pool.map(tail_binning_arrival,df[\"TAIL_NUMBER\"])"
      ],
      "execution_count": 0,
      "outputs": []
    },
    {
      "cell_type": "code",
      "metadata": {
        "id": "TYfFHjKhLhPA",
        "colab_type": "code",
        "colab": {}
      },
      "source": [
        "tail_arrival_binned = pd.Series(tail_arrival_binned,name=\"TAIL_NUMBERS_ARRIVAL_BINNED\")"
      ],
      "execution_count": 0,
      "outputs": []
    },
    {
      "cell_type": "code",
      "metadata": {
        "id": "-m2makaYLn6T",
        "colab_type": "code",
        "colab": {}
      },
      "source": [
        "df = pd.concat([df,tail_arrival_binned],axis=1)"
      ],
      "execution_count": 0,
      "outputs": []
    },
    {
      "cell_type": "code",
      "metadata": {
        "id": "Knj8wZSuNLyw",
        "colab_type": "code",
        "colab": {
          "base_uri": "https://localhost:8080/",
          "height": 224
        },
        "outputId": "1ace01a3-f46b-4225-e4c8-cec7282e3c36"
      },
      "source": [
        "df[56789:56794]"
      ],
      "execution_count": 128,
      "outputs": [
        {
          "output_type": "execute_result",
          "data": {
            "text/html": [
              "<div>\n",
              "<style scoped>\n",
              "    .dataframe tbody tr th:only-of-type {\n",
              "        vertical-align: middle;\n",
              "    }\n",
              "\n",
              "    .dataframe tbody tr th {\n",
              "        vertical-align: top;\n",
              "    }\n",
              "\n",
              "    .dataframe thead th {\n",
              "        text-align: right;\n",
              "    }\n",
              "</style>\n",
              "<table border=\"1\" class=\"dataframe\">\n",
              "  <thead>\n",
              "    <tr style=\"text-align: right;\">\n",
              "      <th></th>\n",
              "      <th>MONTH</th>\n",
              "      <th>DAY_OF_WEEK</th>\n",
              "      <th>AIRLINE</th>\n",
              "      <th>TAIL_NUMBER</th>\n",
              "      <th>ORIGIN_AIRPORT</th>\n",
              "      <th>DESTINATION_AIRPORT</th>\n",
              "      <th>DEPARTURE_DELAY</th>\n",
              "      <th>SCHEDULED_TIME</th>\n",
              "      <th>DISTANCE</th>\n",
              "      <th>ARRIVAL_DELAY</th>\n",
              "      <th>DIVERTED</th>\n",
              "      <th>CANCELLED</th>\n",
              "      <th>SCHEDULED_DEPARTURE_BINNED</th>\n",
              "      <th>SCHEDULED_ARRIVAL_BINNED</th>\n",
              "      <th>ORIGIN_AIRPORT_ARRIVAL_BINNED</th>\n",
              "      <th>ORIGIN_AIRPORT_DEPARTURE_BINNED</th>\n",
              "      <th>DESTINATION_AIRPORT_ARRIVAL_BINNED</th>\n",
              "      <th>DESTINATION_AIRPORT_DEPARTURE_BINNED</th>\n",
              "      <th>TAIL_NUMBERS_DEPARTURE_BINNED</th>\n",
              "      <th>TAIL_NUMBERS_ARRIVAL_BINNED</th>\n",
              "    </tr>\n",
              "  </thead>\n",
              "  <tbody>\n",
              "    <tr>\n",
              "      <th>56789</th>\n",
              "      <td>12</td>\n",
              "      <td>2</td>\n",
              "      <td>AA</td>\n",
              "      <td>N3MEAA</td>\n",
              "      <td>SFO</td>\n",
              "      <td>ORD</td>\n",
              "      <td>58.0</td>\n",
              "      <td>263.0</td>\n",
              "      <td>1846</td>\n",
              "      <td>32.0</td>\n",
              "      <td>0</td>\n",
              "      <td>0</td>\n",
              "      <td>[0600,0800)</td>\n",
              "      <td>[1400,1600)</td>\n",
              "      <td>4</td>\n",
              "      <td>1</td>\n",
              "      <td>8</td>\n",
              "      <td>8</td>\n",
              "      <td>34</td>\n",
              "      <td>36</td>\n",
              "    </tr>\n",
              "    <tr>\n",
              "      <th>56790</th>\n",
              "      <td>11</td>\n",
              "      <td>6</td>\n",
              "      <td>MQ</td>\n",
              "      <td>N653MQ</td>\n",
              "      <td>MOB</td>\n",
              "      <td>DFW</td>\n",
              "      <td>-2.0</td>\n",
              "      <td>120.0</td>\n",
              "      <td>539</td>\n",
              "      <td>-19.0</td>\n",
              "      <td>0</td>\n",
              "      <td>0</td>\n",
              "      <td>[1400,1600)</td>\n",
              "      <td>[1600,1800)</td>\n",
              "      <td>3</td>\n",
              "      <td>9</td>\n",
              "      <td>11</td>\n",
              "      <td>10</td>\n",
              "      <td>13</td>\n",
              "      <td>10</td>\n",
              "    </tr>\n",
              "    <tr>\n",
              "      <th>56791</th>\n",
              "      <td>2</td>\n",
              "      <td>2</td>\n",
              "      <td>DL</td>\n",
              "      <td>N389DA</td>\n",
              "      <td>JFK</td>\n",
              "      <td>ATL</td>\n",
              "      <td>64.0</td>\n",
              "      <td>160.0</td>\n",
              "      <td>760</td>\n",
              "      <td>68.0</td>\n",
              "      <td>0</td>\n",
              "      <td>0</td>\n",
              "      <td>[0600,0800)</td>\n",
              "      <td>[0800,1000)</td>\n",
              "      <td>5</td>\n",
              "      <td>1</td>\n",
              "      <td>16</td>\n",
              "      <td>11</td>\n",
              "      <td>23</td>\n",
              "      <td>30</td>\n",
              "    </tr>\n",
              "    <tr>\n",
              "      <th>56792</th>\n",
              "      <td>11</td>\n",
              "      <td>5</td>\n",
              "      <td>HA</td>\n",
              "      <td>N384HA</td>\n",
              "      <td>SEA</td>\n",
              "      <td>HNL</td>\n",
              "      <td>30.0</td>\n",
              "      <td>380.0</td>\n",
              "      <td>2677</td>\n",
              "      <td>15.0</td>\n",
              "      <td>0</td>\n",
              "      <td>0</td>\n",
              "      <td>[0800,1000)</td>\n",
              "      <td>[1200,1400)</td>\n",
              "      <td>7</td>\n",
              "      <td>4</td>\n",
              "      <td>8</td>\n",
              "      <td>17</td>\n",
              "      <td>37</td>\n",
              "      <td>32</td>\n",
              "    </tr>\n",
              "    <tr>\n",
              "      <th>56793</th>\n",
              "      <td>12</td>\n",
              "      <td>3</td>\n",
              "      <td>OO</td>\n",
              "      <td>N929SW</td>\n",
              "      <td>ISN</td>\n",
              "      <td>DEN</td>\n",
              "      <td>-11.0</td>\n",
              "      <td>120.0</td>\n",
              "      <td>576</td>\n",
              "      <td>-27.0</td>\n",
              "      <td>0</td>\n",
              "      <td>0</td>\n",
              "      <td>[1600,1800)</td>\n",
              "      <td>[1800,2000)</td>\n",
              "      <td>13</td>\n",
              "      <td>14</td>\n",
              "      <td>10</td>\n",
              "      <td>5</td>\n",
              "      <td>17</td>\n",
              "      <td>6</td>\n",
              "    </tr>\n",
              "  </tbody>\n",
              "</table>\n",
              "</div>"
            ],
            "text/plain": [
              "       MONTH  ...  TAIL_NUMBERS_ARRIVAL_BINNED\n",
              "56789     12  ...                           36\n",
              "56790     11  ...                           10\n",
              "56791      2  ...                           30\n",
              "56792     11  ...                           32\n",
              "56793     12  ...                            6\n",
              "\n",
              "[5 rows x 20 columns]"
            ]
          },
          "metadata": {
            "tags": []
          },
          "execution_count": 128
        }
      ]
    },
    {
      "cell_type": "code",
      "metadata": {
        "id": "qafphen5NfD_",
        "colab_type": "code",
        "colab": {}
      },
      "source": [
        "df.drop([\"TAIL_NUMBER\",\"ORIGIN_AIRPORT\",\"DESTINATION_AIRPORT\"],axis=1,inplace=True)"
      ],
      "execution_count": 0,
      "outputs": []
    },
    {
      "cell_type": "code",
      "metadata": {
        "id": "koPccyiSNjgy",
        "colab_type": "code",
        "colab": {
          "base_uri": "https://localhost:8080/",
          "height": 323
        },
        "outputId": "b7b939fd-2688-4b96-d90a-cc7b3129f3b8"
      },
      "source": [
        "df.dtypes"
      ],
      "execution_count": 130,
      "outputs": [
        {
          "output_type": "execute_result",
          "data": {
            "text/plain": [
              "MONTH                                     int64\n",
              "DAY_OF_WEEK                               int64\n",
              "AIRLINE                                  object\n",
              "DEPARTURE_DELAY                         float64\n",
              "SCHEDULED_TIME                          float64\n",
              "DISTANCE                                  int64\n",
              "ARRIVAL_DELAY                           float64\n",
              "DIVERTED                                  int64\n",
              "CANCELLED                                 int64\n",
              "SCHEDULED_DEPARTURE_BINNED               object\n",
              "SCHEDULED_ARRIVAL_BINNED                 object\n",
              "ORIGIN_AIRPORT_ARRIVAL_BINNED             int64\n",
              "ORIGIN_AIRPORT_DEPARTURE_BINNED           int64\n",
              "DESTINATION_AIRPORT_ARRIVAL_BINNED        int64\n",
              "DESTINATION_AIRPORT_DEPARTURE_BINNED      int64\n",
              "TAIL_NUMBERS_DEPARTURE_BINNED             int64\n",
              "TAIL_NUMBERS_ARRIVAL_BINNED               int64\n",
              "dtype: object"
            ]
          },
          "metadata": {
            "tags": []
          },
          "execution_count": 130
        }
      ]
    },
    {
      "cell_type": "code",
      "metadata": {
        "id": "o8jZwdvtNa2Y",
        "colab_type": "code",
        "colab": {}
      },
      "source": [
        "df = df.astype({\"MONTH\":object,\"DAY_OF_WEEK\":object,\"ORIGIN_AIRPORT_ARRIVAL_BINNED\":object,\"ORIGIN_AIRPORT_DEPARTURE_BINNED\":object,\"DESTINATION_AIRPORT_ARRIVAL_BINNED\":object,\"DESTINATION_AIRPORT_DEPARTURE_BINNED\":object,\"TAIL_NUMBERS_DEPARTURE_BINNED\":object,\"TAIL_NUMBERS_ARRIVAL_BINNED\":object})"
      ],
      "execution_count": 0,
      "outputs": []
    },
    {
      "cell_type": "code",
      "metadata": {
        "id": "srLWXIiUPXpb",
        "colab_type": "code",
        "colab": {}
      },
      "source": [
        "df = pd.get_dummies(df,drop_first=True)"
      ],
      "execution_count": 0,
      "outputs": []
    },
    {
      "cell_type": "code",
      "metadata": {
        "id": "tM-nxqchQFML",
        "colab_type": "code",
        "colab": {}
      },
      "source": [
        "df.to_csv(\"flights_svr.csv\")"
      ],
      "execution_count": 0,
      "outputs": []
    }
  ]
}