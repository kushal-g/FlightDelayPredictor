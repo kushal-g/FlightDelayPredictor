{
  "nbformat": 4,
  "nbformat_minor": 0,
  "metadata": {
    "colab": {
      "name": "Untitled8.ipynb",
      "provenance": [],
      "authorship_tag": "ABX9TyMMgm13OvouoEvKT6RG7LUe",
      "include_colab_link": true
    },
    "kernelspec": {
      "name": "python3",
      "display_name": "Python 3"
    }
  },
  "cells": [
    {
      "cell_type": "markdown",
      "metadata": {
        "id": "view-in-github",
        "colab_type": "text"
      },
      "source": [
        "<a href=\"https://colab.research.google.com/github/kushal-g/FlightDelayPredictor/blob/master/More%20models/SGDClassifier.ipynb\" target=\"_parent\"><img src=\"https://colab.research.google.com/assets/colab-badge.svg\" alt=\"Open In Colab\"/></a>"
      ]
    },
    {
      "cell_type": "code",
      "metadata": {
        "id": "0quY54tUafjd",
        "colab_type": "code",
        "colab": {}
      },
      "source": [
        "import numpy as np"
      ],
      "execution_count": 0,
      "outputs": []
    },
    {
      "cell_type": "code",
      "metadata": {
        "id": "-LlPckMuairp",
        "colab_type": "code",
        "colab": {}
      },
      "source": [
        "import pandas as pd"
      ],
      "execution_count": 0,
      "outputs": []
    },
    {
      "cell_type": "code",
      "metadata": {
        "id": "Z5_8B7EIalCf",
        "colab_type": "code",
        "colab": {}
      },
      "source": [
        "from sklearn.linear_model import SGDClassifier"
      ],
      "execution_count": 0,
      "outputs": []
    },
    {
      "cell_type": "code",
      "metadata": {
        "id": "owSQOJs9apJF",
        "colab_type": "code",
        "colab": {
          "base_uri": "https://localhost:8080/",
          "height": 122
        },
        "outputId": "72af9051-e158-49e7-c696-39171516c2ff"
      },
      "source": [
        "from google.colab import drive\n",
        "drive.mount('/content/gdrive')"
      ],
      "execution_count": 5,
      "outputs": [
        {
          "output_type": "stream",
          "text": [
            "Go to this URL in a browser: https://accounts.google.com/o/oauth2/auth?client_id=947318989803-6bn6qk8qdgf4n4g3pfee6491hc0brc4i.apps.googleusercontent.com&redirect_uri=urn%3aietf%3awg%3aoauth%3a2.0%3aoob&response_type=code&scope=email%20https%3a%2f%2fwww.googleapis.com%2fauth%2fdocs.test%20https%3a%2f%2fwww.googleapis.com%2fauth%2fdrive%20https%3a%2f%2fwww.googleapis.com%2fauth%2fdrive.photos.readonly%20https%3a%2f%2fwww.googleapis.com%2fauth%2fpeopleapi.readonly\n",
            "\n",
            "Enter your authorization code:\n",
            "··········\n",
            "Mounted at /content/gdrive\n"
          ],
          "name": "stdout"
        }
      ]
    },
    {
      "cell_type": "code",
      "metadata": {
        "id": "1CClqjY7bDM0",
        "colab_type": "code",
        "colab": {
          "base_uri": "https://localhost:8080/",
          "height": 34
        },
        "outputId": "f07e9a0a-a028-416d-f0e0-41eeae1da7c2"
      },
      "source": [
        "cd /content/gdrive/My\\ Drive"
      ],
      "execution_count": 6,
      "outputs": [
        {
          "output_type": "stream",
          "text": [
            "/content/gdrive/My Drive\n"
          ],
          "name": "stdout"
        }
      ]
    },
    {
      "cell_type": "code",
      "metadata": {
        "id": "6a9B08NXbEgj",
        "colab_type": "code",
        "colab": {}
      },
      "source": [
        "df = pd.read_csv(\"flights_svr.csv\")"
      ],
      "execution_count": 0,
      "outputs": []
    },
    {
      "cell_type": "code",
      "metadata": {
        "id": "j-IlalG4c7Y9",
        "colab_type": "code",
        "colab": {}
      },
      "source": [
        "pd.options.display.max_seq_items = 2000"
      ],
      "execution_count": 0,
      "outputs": []
    },
    {
      "cell_type": "code",
      "metadata": {
        "id": "qGbi-XgVbjDI",
        "colab_type": "code",
        "colab": {
          "base_uri": "https://localhost:8080/",
          "height": 1000
        },
        "outputId": "d72cb8da-a680-4a28-9b15-c3808730a5c0"
      },
      "source": [
        "df.columns[:]"
      ],
      "execution_count": 9,
      "outputs": [
        {
          "output_type": "execute_result",
          "data": {
            "text/plain": [
              "Index(['Unnamed: 0', 'DEPARTURE_DELAY', 'SCHEDULED_TIME', 'DISTANCE',\n",
              "       'ARRIVAL_DELAY', 'DIVERTED', 'CANCELLED', 'MONTH_2', 'MONTH_3',\n",
              "       'MONTH_4', 'MONTH_5', 'MONTH_6', 'MONTH_7', 'MONTH_8', 'MONTH_9',\n",
              "       'MONTH_10', 'MONTH_11', 'MONTH_12', 'DAY_OF_WEEK_2', 'DAY_OF_WEEK_3',\n",
              "       'DAY_OF_WEEK_4', 'DAY_OF_WEEK_5', 'DAY_OF_WEEK_6', 'DAY_OF_WEEK_7',\n",
              "       'AIRLINE_AS', 'AIRLINE_B6', 'AIRLINE_DL', 'AIRLINE_EV', 'AIRLINE_F9',\n",
              "       'AIRLINE_HA', 'AIRLINE_MQ', 'AIRLINE_NK', 'AIRLINE_OO', 'AIRLINE_UA',\n",
              "       'AIRLINE_US', 'AIRLINE_VX', 'AIRLINE_WN',\n",
              "       'SCHEDULED_DEPARTURE_BINNED_[0200,0400)',\n",
              "       'SCHEDULED_DEPARTURE_BINNED_[0400,0600)',\n",
              "       'SCHEDULED_DEPARTURE_BINNED_[0600,0800)',\n",
              "       'SCHEDULED_DEPARTURE_BINNED_[0800,1000)',\n",
              "       'SCHEDULED_DEPARTURE_BINNED_[1000,1200)',\n",
              "       'SCHEDULED_DEPARTURE_BINNED_[1200,1400)',\n",
              "       'SCHEDULED_DEPARTURE_BINNED_[1400,1600)',\n",
              "       'SCHEDULED_DEPARTURE_BINNED_[1600,1800)',\n",
              "       'SCHEDULED_DEPARTURE_BINNED_[1800,2000)',\n",
              "       'SCHEDULED_DEPARTURE_BINNED_[2000,2200)',\n",
              "       'SCHEDULED_DEPARTURE_BINNED_[2200,2359]',\n",
              "       'SCHEDULED_ARRIVAL_BINNED_[0200,0400)',\n",
              "       'SCHEDULED_ARRIVAL_BINNED_[0400,0600)',\n",
              "       'SCHEDULED_ARRIVAL_BINNED_[0600,0800)',\n",
              "       'SCHEDULED_ARRIVAL_BINNED_[0800,1000)',\n",
              "       'SCHEDULED_ARRIVAL_BINNED_[1000,1200)',\n",
              "       'SCHEDULED_ARRIVAL_BINNED_[1200,1400)',\n",
              "       'SCHEDULED_ARRIVAL_BINNED_[1400,1600)',\n",
              "       'SCHEDULED_ARRIVAL_BINNED_[1600,1800)',\n",
              "       'SCHEDULED_ARRIVAL_BINNED_[1800,2000)',\n",
              "       'SCHEDULED_ARRIVAL_BINNED_[2000,2200)',\n",
              "       'SCHEDULED_ARRIVAL_BINNED_[2200,2359]',\n",
              "       'ORIGIN_AIRPORT_ARRIVAL_BINNED_1', 'ORIGIN_AIRPORT_ARRIVAL_BINNED_2',\n",
              "       'ORIGIN_AIRPORT_ARRIVAL_BINNED_3', 'ORIGIN_AIRPORT_ARRIVAL_BINNED_4',\n",
              "       'ORIGIN_AIRPORT_ARRIVAL_BINNED_5', 'ORIGIN_AIRPORT_ARRIVAL_BINNED_6',\n",
              "       'ORIGIN_AIRPORT_ARRIVAL_BINNED_7', 'ORIGIN_AIRPORT_ARRIVAL_BINNED_8',\n",
              "       'ORIGIN_AIRPORT_ARRIVAL_BINNED_9', 'ORIGIN_AIRPORT_ARRIVAL_BINNED_10',\n",
              "       'ORIGIN_AIRPORT_ARRIVAL_BINNED_11', 'ORIGIN_AIRPORT_ARRIVAL_BINNED_12',\n",
              "       'ORIGIN_AIRPORT_ARRIVAL_BINNED_13', 'ORIGIN_AIRPORT_ARRIVAL_BINNED_14',\n",
              "       'ORIGIN_AIRPORT_ARRIVAL_BINNED_15', 'ORIGIN_AIRPORT_ARRIVAL_BINNED_16',\n",
              "       'ORIGIN_AIRPORT_ARRIVAL_BINNED_17', 'ORIGIN_AIRPORT_ARRIVAL_BINNED_18',\n",
              "       'ORIGIN_AIRPORT_ARRIVAL_BINNED_19', 'ORIGIN_AIRPORT_ARRIVAL_BINNED_20',\n",
              "       'ORIGIN_AIRPORT_ARRIVAL_BINNED_21', 'ORIGIN_AIRPORT_ARRIVAL_BINNED_22',\n",
              "       'ORIGIN_AIRPORT_ARRIVAL_BINNED_23', 'ORIGIN_AIRPORT_DEPARTURE_BINNED_1',\n",
              "       'ORIGIN_AIRPORT_DEPARTURE_BINNED_2',\n",
              "       'ORIGIN_AIRPORT_DEPARTURE_BINNED_3',\n",
              "       'ORIGIN_AIRPORT_DEPARTURE_BINNED_4',\n",
              "       'ORIGIN_AIRPORT_DEPARTURE_BINNED_5',\n",
              "       'ORIGIN_AIRPORT_DEPARTURE_BINNED_6',\n",
              "       'ORIGIN_AIRPORT_DEPARTURE_BINNED_7',\n",
              "       'ORIGIN_AIRPORT_DEPARTURE_BINNED_8',\n",
              "       'ORIGIN_AIRPORT_DEPARTURE_BINNED_9',\n",
              "       'ORIGIN_AIRPORT_DEPARTURE_BINNED_10',\n",
              "       'ORIGIN_AIRPORT_DEPARTURE_BINNED_11',\n",
              "       'ORIGIN_AIRPORT_DEPARTURE_BINNED_12',\n",
              "       'ORIGIN_AIRPORT_DEPARTURE_BINNED_13',\n",
              "       'ORIGIN_AIRPORT_DEPARTURE_BINNED_14',\n",
              "       'ORIGIN_AIRPORT_DEPARTURE_BINNED_15',\n",
              "       'ORIGIN_AIRPORT_DEPARTURE_BINNED_16',\n",
              "       'ORIGIN_AIRPORT_DEPARTURE_BINNED_17',\n",
              "       'ORIGIN_AIRPORT_DEPARTURE_BINNED_18',\n",
              "       'ORIGIN_AIRPORT_DEPARTURE_BINNED_19',\n",
              "       'ORIGIN_AIRPORT_DEPARTURE_BINNED_20',\n",
              "       'ORIGIN_AIRPORT_DEPARTURE_BINNED_21',\n",
              "       'ORIGIN_AIRPORT_DEPARTURE_BINNED_22',\n",
              "       'ORIGIN_AIRPORT_DEPARTURE_BINNED_23',\n",
              "       'DESTINATION_AIRPORT_ARRIVAL_BINNED_1',\n",
              "       'DESTINATION_AIRPORT_ARRIVAL_BINNED_2',\n",
              "       'DESTINATION_AIRPORT_ARRIVAL_BINNED_3',\n",
              "       'DESTINATION_AIRPORT_ARRIVAL_BINNED_4',\n",
              "       'DESTINATION_AIRPORT_ARRIVAL_BINNED_5',\n",
              "       'DESTINATION_AIRPORT_ARRIVAL_BINNED_6',\n",
              "       'DESTINATION_AIRPORT_ARRIVAL_BINNED_7',\n",
              "       'DESTINATION_AIRPORT_ARRIVAL_BINNED_8',\n",
              "       'DESTINATION_AIRPORT_ARRIVAL_BINNED_9',\n",
              "       'DESTINATION_AIRPORT_ARRIVAL_BINNED_10',\n",
              "       'DESTINATION_AIRPORT_ARRIVAL_BINNED_11',\n",
              "       'DESTINATION_AIRPORT_ARRIVAL_BINNED_12',\n",
              "       'DESTINATION_AIRPORT_ARRIVAL_BINNED_13',\n",
              "       'DESTINATION_AIRPORT_ARRIVAL_BINNED_14',\n",
              "       'DESTINATION_AIRPORT_ARRIVAL_BINNED_15',\n",
              "       'DESTINATION_AIRPORT_ARRIVAL_BINNED_16',\n",
              "       'DESTINATION_AIRPORT_ARRIVAL_BINNED_17',\n",
              "       'DESTINATION_AIRPORT_ARRIVAL_BINNED_18',\n",
              "       'DESTINATION_AIRPORT_ARRIVAL_BINNED_19',\n",
              "       'DESTINATION_AIRPORT_ARRIVAL_BINNED_20',\n",
              "       'DESTINATION_AIRPORT_ARRIVAL_BINNED_21',\n",
              "       'DESTINATION_AIRPORT_ARRIVAL_BINNED_22',\n",
              "       'DESTINATION_AIRPORT_ARRIVAL_BINNED_23',\n",
              "       'DESTINATION_AIRPORT_ARRIVAL_BINNED_24',\n",
              "       'DESTINATION_AIRPORT_DEPARTURE_BINNED_1',\n",
              "       'DESTINATION_AIRPORT_DEPARTURE_BINNED_2',\n",
              "       'DESTINATION_AIRPORT_DEPARTURE_BINNED_3',\n",
              "       'DESTINATION_AIRPORT_DEPARTURE_BINNED_4',\n",
              "       'DESTINATION_AIRPORT_DEPARTURE_BINNED_5',\n",
              "       'DESTINATION_AIRPORT_DEPARTURE_BINNED_6',\n",
              "       'DESTINATION_AIRPORT_DEPARTURE_BINNED_7',\n",
              "       'DESTINATION_AIRPORT_DEPARTURE_BINNED_8',\n",
              "       'DESTINATION_AIRPORT_DEPARTURE_BINNED_9',\n",
              "       'DESTINATION_AIRPORT_DEPARTURE_BINNED_10',\n",
              "       'DESTINATION_AIRPORT_DEPARTURE_BINNED_11',\n",
              "       'DESTINATION_AIRPORT_DEPARTURE_BINNED_12',\n",
              "       'DESTINATION_AIRPORT_DEPARTURE_BINNED_13',\n",
              "       'DESTINATION_AIRPORT_DEPARTURE_BINNED_14',\n",
              "       'DESTINATION_AIRPORT_DEPARTURE_BINNED_15',\n",
              "       'DESTINATION_AIRPORT_DEPARTURE_BINNED_16',\n",
              "       'DESTINATION_AIRPORT_DEPARTURE_BINNED_17',\n",
              "       'DESTINATION_AIRPORT_DEPARTURE_BINNED_18',\n",
              "       'DESTINATION_AIRPORT_DEPARTURE_BINNED_19',\n",
              "       'DESTINATION_AIRPORT_DEPARTURE_BINNED_20',\n",
              "       'DESTINATION_AIRPORT_DEPARTURE_BINNED_21',\n",
              "       'DESTINATION_AIRPORT_DEPARTURE_BINNED_22',\n",
              "       'DESTINATION_AIRPORT_DEPARTURE_BINNED_23',\n",
              "       'DESTINATION_AIRPORT_DEPARTURE_BINNED_24',\n",
              "       'TAIL_NUMBERS_DEPARTURE_BINNED_1', 'TAIL_NUMBERS_DEPARTURE_BINNED_2',\n",
              "       'TAIL_NUMBERS_DEPARTURE_BINNED_3', 'TAIL_NUMBERS_DEPARTURE_BINNED_4',\n",
              "       'TAIL_NUMBERS_DEPARTURE_BINNED_5', 'TAIL_NUMBERS_DEPARTURE_BINNED_6',\n",
              "       'TAIL_NUMBERS_DEPARTURE_BINNED_7', 'TAIL_NUMBERS_DEPARTURE_BINNED_8',\n",
              "       'TAIL_NUMBERS_DEPARTURE_BINNED_9', 'TAIL_NUMBERS_DEPARTURE_BINNED_10',\n",
              "       'TAIL_NUMBERS_DEPARTURE_BINNED_11', 'TAIL_NUMBERS_DEPARTURE_BINNED_12',\n",
              "       'TAIL_NUMBERS_DEPARTURE_BINNED_13', 'TAIL_NUMBERS_DEPARTURE_BINNED_14',\n",
              "       'TAIL_NUMBERS_DEPARTURE_BINNED_15', 'TAIL_NUMBERS_DEPARTURE_BINNED_16',\n",
              "       'TAIL_NUMBERS_DEPARTURE_BINNED_17', 'TAIL_NUMBERS_DEPARTURE_BINNED_18',\n",
              "       'TAIL_NUMBERS_DEPARTURE_BINNED_19', 'TAIL_NUMBERS_DEPARTURE_BINNED_20',\n",
              "       'TAIL_NUMBERS_DEPARTURE_BINNED_21', 'TAIL_NUMBERS_DEPARTURE_BINNED_22',\n",
              "       'TAIL_NUMBERS_DEPARTURE_BINNED_23', 'TAIL_NUMBERS_DEPARTURE_BINNED_24',\n",
              "       'TAIL_NUMBERS_DEPARTURE_BINNED_25', 'TAIL_NUMBERS_DEPARTURE_BINNED_26',\n",
              "       'TAIL_NUMBERS_DEPARTURE_BINNED_27', 'TAIL_NUMBERS_DEPARTURE_BINNED_28',\n",
              "       'TAIL_NUMBERS_DEPARTURE_BINNED_29', 'TAIL_NUMBERS_DEPARTURE_BINNED_30',\n",
              "       'TAIL_NUMBERS_DEPARTURE_BINNED_31', 'TAIL_NUMBERS_DEPARTURE_BINNED_32',\n",
              "       'TAIL_NUMBERS_DEPARTURE_BINNED_33', 'TAIL_NUMBERS_DEPARTURE_BINNED_34',\n",
              "       'TAIL_NUMBERS_DEPARTURE_BINNED_35', 'TAIL_NUMBERS_DEPARTURE_BINNED_36',\n",
              "       'TAIL_NUMBERS_DEPARTURE_BINNED_37', 'TAIL_NUMBERS_DEPARTURE_BINNED_38',\n",
              "       'TAIL_NUMBERS_DEPARTURE_BINNED_39', 'TAIL_NUMBERS_ARRIVAL_BINNED_1',\n",
              "       'TAIL_NUMBERS_ARRIVAL_BINNED_2', 'TAIL_NUMBERS_ARRIVAL_BINNED_3',\n",
              "       'TAIL_NUMBERS_ARRIVAL_BINNED_4', 'TAIL_NUMBERS_ARRIVAL_BINNED_5',\n",
              "       'TAIL_NUMBERS_ARRIVAL_BINNED_6', 'TAIL_NUMBERS_ARRIVAL_BINNED_7',\n",
              "       'TAIL_NUMBERS_ARRIVAL_BINNED_8', 'TAIL_NUMBERS_ARRIVAL_BINNED_9',\n",
              "       'TAIL_NUMBERS_ARRIVAL_BINNED_10', 'TAIL_NUMBERS_ARRIVAL_BINNED_11',\n",
              "       'TAIL_NUMBERS_ARRIVAL_BINNED_12', 'TAIL_NUMBERS_ARRIVAL_BINNED_13',\n",
              "       'TAIL_NUMBERS_ARRIVAL_BINNED_14', 'TAIL_NUMBERS_ARRIVAL_BINNED_15',\n",
              "       'TAIL_NUMBERS_ARRIVAL_BINNED_16', 'TAIL_NUMBERS_ARRIVAL_BINNED_17',\n",
              "       'TAIL_NUMBERS_ARRIVAL_BINNED_18', 'TAIL_NUMBERS_ARRIVAL_BINNED_19',\n",
              "       'TAIL_NUMBERS_ARRIVAL_BINNED_20', 'TAIL_NUMBERS_ARRIVAL_BINNED_21',\n",
              "       'TAIL_NUMBERS_ARRIVAL_BINNED_22', 'TAIL_NUMBERS_ARRIVAL_BINNED_23',\n",
              "       'TAIL_NUMBERS_ARRIVAL_BINNED_24', 'TAIL_NUMBERS_ARRIVAL_BINNED_25',\n",
              "       'TAIL_NUMBERS_ARRIVAL_BINNED_26', 'TAIL_NUMBERS_ARRIVAL_BINNED_27',\n",
              "       'TAIL_NUMBERS_ARRIVAL_BINNED_28', 'TAIL_NUMBERS_ARRIVAL_BINNED_29',\n",
              "       'TAIL_NUMBERS_ARRIVAL_BINNED_30', 'TAIL_NUMBERS_ARRIVAL_BINNED_31',\n",
              "       'TAIL_NUMBERS_ARRIVAL_BINNED_32', 'TAIL_NUMBERS_ARRIVAL_BINNED_33',\n",
              "       'TAIL_NUMBERS_ARRIVAL_BINNED_34', 'TAIL_NUMBERS_ARRIVAL_BINNED_35',\n",
              "       'TAIL_NUMBERS_ARRIVAL_BINNED_36', 'TAIL_NUMBERS_ARRIVAL_BINNED_37',\n",
              "       'TAIL_NUMBERS_ARRIVAL_BINNED_38', 'TAIL_NUMBERS_ARRIVAL_BINNED_39',\n",
              "       'ARRIVAL_DELAY_BOOL', 'DEPARTURE_DELAY_BOOL'],\n",
              "      dtype='object')"
            ]
          },
          "metadata": {
            "tags": []
          },
          "execution_count": 9
        }
      ]
    },
    {
      "cell_type": "code",
      "metadata": {
        "id": "W5sSaPQsdFbP",
        "colab_type": "code",
        "colab": {}
      },
      "source": [
        "#PREDICT DEPARTURE DELAY"
      ],
      "execution_count": 0,
      "outputs": []
    },
    {
      "cell_type": "code",
      "metadata": {
        "id": "O27IJLAddVbh",
        "colab_type": "code",
        "colab": {}
      },
      "source": [
        "cols = [c for c in df.columns if c[:22] != 'ORIGIN_AIRPORT_ARRIVAL']\n",
        "cols = [c for c in cols if c[:27] != 'DESTINATION_AIRPORT_ARRIVAL']\n",
        "cols = [c for c in cols if c[:20] !=\"TAIL_NUMBERS_ARRIVAL\"]"
      ],
      "execution_count": 0,
      "outputs": []
    },
    {
      "cell_type": "code",
      "metadata": {
        "id": "flTPr1kVbzXg",
        "colab_type": "code",
        "colab": {}
      },
      "source": [
        "X = df[cols].drop([\"Unnamed: 0\",\"DEPARTURE_DELAY\",\"ARRIVAL_DELAY\",\"ARRIVAL_DELAY_BOOL\",\"DEPARTURE_DELAY_BOOL\"],axis=1)"
      ],
      "execution_count": 0,
      "outputs": []
    },
    {
      "cell_type": "code",
      "metadata": {
        "id": "sUBT7AhSe6Ut",
        "colab_type": "code",
        "colab": {}
      },
      "source": [
        "y = df[\"DEPARTURE_DELAY_BOOL\"]"
      ],
      "execution_count": 0,
      "outputs": []
    },
    {
      "cell_type": "code",
      "metadata": {
        "id": "wO8HEnnzfKk-",
        "colab_type": "code",
        "colab": {}
      },
      "source": [
        "model = SGDClassifier(loss=\"modified_huber\",max_iter=len(df))"
      ],
      "execution_count": 0,
      "outputs": []
    },
    {
      "cell_type": "code",
      "metadata": {
        "id": "wz7lXEI2fUO8",
        "colab_type": "code",
        "colab": {}
      },
      "source": [
        "from sklearn.model_selection import train_test_split"
      ],
      "execution_count": 0,
      "outputs": []
    },
    {
      "cell_type": "code",
      "metadata": {
        "id": "KpYaD6Lif4C3",
        "colab_type": "code",
        "colab": {}
      },
      "source": [
        "X_train, X_test, y_train, y_test = train_test_split(X, y, test_size=0.33, random_state=42)"
      ],
      "execution_count": 0,
      "outputs": []
    },
    {
      "cell_type": "code",
      "metadata": {
        "id": "_4XTyO7Cf_OP",
        "colab_type": "code",
        "colab": {
          "base_uri": "https://localhost:8080/",
          "height": 34
        },
        "outputId": "ffd25808-f648-4aae-f0d2-ae423c44c63d"
      },
      "source": [
        "%timeit model.fit(X_train,y_train)"
      ],
      "execution_count": 17,
      "outputs": [
        {
          "output_type": "stream",
          "text": [
            "1 loop, best of 3: 5min 24s per loop\n"
          ],
          "name": "stdout"
        }
      ]
    },
    {
      "cell_type": "code",
      "metadata": {
        "id": "KwvIq4Z3iXo-",
        "colab_type": "code",
        "colab": {}
      },
      "source": [
        "predictions = model.predict(X_test)"
      ],
      "execution_count": 0,
      "outputs": []
    },
    {
      "cell_type": "code",
      "metadata": {
        "id": "GkuHCJUCiebd",
        "colab_type": "code",
        "colab": {}
      },
      "source": [
        "from sklearn.metrics import confusion_matrix\n"
      ],
      "execution_count": 0,
      "outputs": []
    },
    {
      "cell_type": "code",
      "metadata": {
        "id": "kRRvdPjpil4Q",
        "colab_type": "code",
        "colab": {}
      },
      "source": [
        "mat = confusion_matrix(y_test, predictions)"
      ],
      "execution_count": 0,
      "outputs": []
    },
    {
      "cell_type": "code",
      "metadata": {
        "id": "NCC6UnpTyAZl",
        "colab_type": "code",
        "colab": {
          "base_uri": "https://localhost:8080/",
          "height": 34
        },
        "outputId": "e61a5df6-2b00-4338-b68b-f0e7fc1464d6"
      },
      "source": [
        "(mat[0][0]+mat[1][1])/(mat[0][0]+mat[0][1]+mat[1][0]+mat[1][1])*100"
      ],
      "execution_count": 22,
      "outputs": [
        {
          "output_type": "execute_result",
          "data": {
            "text/plain": [
              "63.96096749737094"
            ]
          },
          "metadata": {
            "tags": []
          },
          "execution_count": 22
        }
      ]
    }
  ]
}