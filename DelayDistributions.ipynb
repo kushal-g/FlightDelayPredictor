{
  "nbformat": 4,
  "nbformat_minor": 0,
  "metadata": {
    "colab": {
      "name": "Untitled7.ipynb",
      "provenance": [],
      "authorship_tag": "ABX9TyO8AkKnG4WiWcvaFJWtWLnQ",
      "include_colab_link": true
    },
    "kernelspec": {
      "name": "python3",
      "display_name": "Python 3"
    }
  },
  "cells": [
    {
      "cell_type": "markdown",
      "metadata": {
        "id": "view-in-github",
        "colab_type": "text"
      },
      "source": [
        "<a href=\"https://colab.research.google.com/github/kushal-g/FlightDelayPredictor/blob/master/DelayDistributions.ipynb\" target=\"_parent\"><img src=\"https://colab.research.google.com/assets/colab-badge.svg\" alt=\"Open In Colab\"/></a>"
      ]
    },
    {
      "cell_type": "code",
      "metadata": {
        "id": "9edQIz4kjgjL",
        "colab_type": "code",
        "colab": {}
      },
      "source": [
        "import numpy as np"
      ],
      "execution_count": 0,
      "outputs": []
    },
    {
      "cell_type": "code",
      "metadata": {
        "id": "oq2CgxAPjkrf",
        "colab_type": "code",
        "colab": {}
      },
      "source": [
        "import pandas as pd"
      ],
      "execution_count": 0,
      "outputs": []
    },
    {
      "cell_type": "code",
      "metadata": {
        "id": "-hsxZMBqjpnn",
        "colab_type": "code",
        "colab": {}
      },
      "source": [
        "from multiprocessing import Pool"
      ],
      "execution_count": 0,
      "outputs": []
    },
    {
      "cell_type": "code",
      "metadata": {
        "id": "FejTtlkmjulq",
        "colab_type": "code",
        "colab": {}
      },
      "source": [
        "import matplotlib as plt"
      ],
      "execution_count": 0,
      "outputs": []
    },
    {
      "cell_type": "code",
      "metadata": {
        "id": "bfL8RtiUkSwY",
        "colab_type": "code",
        "outputId": "e36e52b2-6a60-4410-980b-5ba73d28af2a",
        "colab": {
          "base_uri": "https://localhost:8080/",
          "height": 122
        }
      },
      "source": [
        "from google.colab import drive\n",
        "drive.mount('/content/gdrive')"
      ],
      "execution_count": 0,
      "outputs": [
        {
          "output_type": "stream",
          "text": [
            "Go to this URL in a browser: https://accounts.google.com/o/oauth2/auth?client_id=947318989803-6bn6qk8qdgf4n4g3pfee6491hc0brc4i.apps.googleusercontent.com&redirect_uri=urn%3aietf%3awg%3aoauth%3a2.0%3aoob&response_type=code&scope=email%20https%3a%2f%2fwww.googleapis.com%2fauth%2fdocs.test%20https%3a%2f%2fwww.googleapis.com%2fauth%2fdrive%20https%3a%2f%2fwww.googleapis.com%2fauth%2fdrive.photos.readonly%20https%3a%2f%2fwww.googleapis.com%2fauth%2fpeopleapi.readonly\n",
            "\n",
            "Enter your authorization code:\n",
            "··········\n",
            "Mounted at /content/gdrive\n"
          ],
          "name": "stdout"
        }
      ]
    },
    {
      "cell_type": "code",
      "metadata": {
        "id": "0DMBlkbxkcD-",
        "colab_type": "code",
        "outputId": "10964622-d1b3-4c83-d690-c21dd3038e13",
        "colab": {
          "base_uri": "https://localhost:8080/",
          "height": 34
        }
      },
      "source": [
        "cd /content/gdrive/My\\ Drive"
      ],
      "execution_count": 0,
      "outputs": [
        {
          "output_type": "stream",
          "text": [
            "/content/gdrive/My Drive\n"
          ],
          "name": "stdout"
        }
      ]
    },
    {
      "cell_type": "code",
      "metadata": {
        "id": "ggPTUddHkel8",
        "colab_type": "code",
        "colab": {}
      },
      "source": [
        "df = pd.read_csv(\"flights.csv\",dtype={\"ORIGIN_AIRPORT\":object,\"DESTINATION_AIRPORT\":object}).drop([\"CANCELLATION_REASON\",\"AIR_SYSTEM_DELAY\",\"SECURITY_DELAY\",\"AIRLINE_DELAY\",\"LATE_AIRCRAFT_DELAY\",\"WEATHER_DELAY\"],axis=1)"
      ],
      "execution_count": 0,
      "outputs": []
    },
    {
      "cell_type": "code",
      "metadata": {
        "id": "yiuMc6wcknA9",
        "colab_type": "code",
        "colab": {}
      },
      "source": [
        "df.dropna(inplace=True)"
      ],
      "execution_count": 0,
      "outputs": []
    },
    {
      "cell_type": "code",
      "metadata": {
        "id": "zdkdwhC1ndKI",
        "colab_type": "code",
        "outputId": "f3e022bf-57ae-4fbe-b777-3f8e0b7e931e",
        "colab": {
          "base_uri": "https://localhost:8080/",
          "height": 224
        }
      },
      "source": [
        "df.head()"
      ],
      "execution_count": 0,
      "outputs": [
        {
          "output_type": "execute_result",
          "data": {
            "text/html": [
              "<div>\n",
              "<style scoped>\n",
              "    .dataframe tbody tr th:only-of-type {\n",
              "        vertical-align: middle;\n",
              "    }\n",
              "\n",
              "    .dataframe tbody tr th {\n",
              "        vertical-align: top;\n",
              "    }\n",
              "\n",
              "    .dataframe thead th {\n",
              "        text-align: right;\n",
              "    }\n",
              "</style>\n",
              "<table border=\"1\" class=\"dataframe\">\n",
              "  <thead>\n",
              "    <tr style=\"text-align: right;\">\n",
              "      <th></th>\n",
              "      <th>YEAR</th>\n",
              "      <th>MONTH</th>\n",
              "      <th>DAY</th>\n",
              "      <th>DAY_OF_WEEK</th>\n",
              "      <th>AIRLINE</th>\n",
              "      <th>FLIGHT_NUMBER</th>\n",
              "      <th>TAIL_NUMBER</th>\n",
              "      <th>ORIGIN_AIRPORT</th>\n",
              "      <th>DESTINATION_AIRPORT</th>\n",
              "      <th>SCHEDULED_DEPARTURE</th>\n",
              "      <th>DEPARTURE_TIME</th>\n",
              "      <th>DEPARTURE_DELAY</th>\n",
              "      <th>TAXI_OUT</th>\n",
              "      <th>WHEELS_OFF</th>\n",
              "      <th>SCHEDULED_TIME</th>\n",
              "      <th>ELAPSED_TIME</th>\n",
              "      <th>AIR_TIME</th>\n",
              "      <th>DISTANCE</th>\n",
              "      <th>WHEELS_ON</th>\n",
              "      <th>TAXI_IN</th>\n",
              "      <th>SCHEDULED_ARRIVAL</th>\n",
              "      <th>ARRIVAL_TIME</th>\n",
              "      <th>ARRIVAL_DELAY</th>\n",
              "      <th>DIVERTED</th>\n",
              "      <th>CANCELLED</th>\n",
              "    </tr>\n",
              "  </thead>\n",
              "  <tbody>\n",
              "    <tr>\n",
              "      <th>0</th>\n",
              "      <td>2015</td>\n",
              "      <td>1</td>\n",
              "      <td>1</td>\n",
              "      <td>4</td>\n",
              "      <td>AS</td>\n",
              "      <td>98</td>\n",
              "      <td>N407AS</td>\n",
              "      <td>ANC</td>\n",
              "      <td>SEA</td>\n",
              "      <td>5</td>\n",
              "      <td>2354.0</td>\n",
              "      <td>-11.0</td>\n",
              "      <td>21.0</td>\n",
              "      <td>15.0</td>\n",
              "      <td>205.0</td>\n",
              "      <td>194.0</td>\n",
              "      <td>169.0</td>\n",
              "      <td>1448</td>\n",
              "      <td>404.0</td>\n",
              "      <td>4.0</td>\n",
              "      <td>430</td>\n",
              "      <td>408.0</td>\n",
              "      <td>-22.0</td>\n",
              "      <td>0</td>\n",
              "      <td>0</td>\n",
              "    </tr>\n",
              "    <tr>\n",
              "      <th>1</th>\n",
              "      <td>2015</td>\n",
              "      <td>1</td>\n",
              "      <td>1</td>\n",
              "      <td>4</td>\n",
              "      <td>AA</td>\n",
              "      <td>2336</td>\n",
              "      <td>N3KUAA</td>\n",
              "      <td>LAX</td>\n",
              "      <td>PBI</td>\n",
              "      <td>10</td>\n",
              "      <td>2.0</td>\n",
              "      <td>-8.0</td>\n",
              "      <td>12.0</td>\n",
              "      <td>14.0</td>\n",
              "      <td>280.0</td>\n",
              "      <td>279.0</td>\n",
              "      <td>263.0</td>\n",
              "      <td>2330</td>\n",
              "      <td>737.0</td>\n",
              "      <td>4.0</td>\n",
              "      <td>750</td>\n",
              "      <td>741.0</td>\n",
              "      <td>-9.0</td>\n",
              "      <td>0</td>\n",
              "      <td>0</td>\n",
              "    </tr>\n",
              "    <tr>\n",
              "      <th>2</th>\n",
              "      <td>2015</td>\n",
              "      <td>1</td>\n",
              "      <td>1</td>\n",
              "      <td>4</td>\n",
              "      <td>US</td>\n",
              "      <td>840</td>\n",
              "      <td>N171US</td>\n",
              "      <td>SFO</td>\n",
              "      <td>CLT</td>\n",
              "      <td>20</td>\n",
              "      <td>18.0</td>\n",
              "      <td>-2.0</td>\n",
              "      <td>16.0</td>\n",
              "      <td>34.0</td>\n",
              "      <td>286.0</td>\n",
              "      <td>293.0</td>\n",
              "      <td>266.0</td>\n",
              "      <td>2296</td>\n",
              "      <td>800.0</td>\n",
              "      <td>11.0</td>\n",
              "      <td>806</td>\n",
              "      <td>811.0</td>\n",
              "      <td>5.0</td>\n",
              "      <td>0</td>\n",
              "      <td>0</td>\n",
              "    </tr>\n",
              "    <tr>\n",
              "      <th>3</th>\n",
              "      <td>2015</td>\n",
              "      <td>1</td>\n",
              "      <td>1</td>\n",
              "      <td>4</td>\n",
              "      <td>AA</td>\n",
              "      <td>258</td>\n",
              "      <td>N3HYAA</td>\n",
              "      <td>LAX</td>\n",
              "      <td>MIA</td>\n",
              "      <td>20</td>\n",
              "      <td>15.0</td>\n",
              "      <td>-5.0</td>\n",
              "      <td>15.0</td>\n",
              "      <td>30.0</td>\n",
              "      <td>285.0</td>\n",
              "      <td>281.0</td>\n",
              "      <td>258.0</td>\n",
              "      <td>2342</td>\n",
              "      <td>748.0</td>\n",
              "      <td>8.0</td>\n",
              "      <td>805</td>\n",
              "      <td>756.0</td>\n",
              "      <td>-9.0</td>\n",
              "      <td>0</td>\n",
              "      <td>0</td>\n",
              "    </tr>\n",
              "    <tr>\n",
              "      <th>4</th>\n",
              "      <td>2015</td>\n",
              "      <td>1</td>\n",
              "      <td>1</td>\n",
              "      <td>4</td>\n",
              "      <td>AS</td>\n",
              "      <td>135</td>\n",
              "      <td>N527AS</td>\n",
              "      <td>SEA</td>\n",
              "      <td>ANC</td>\n",
              "      <td>25</td>\n",
              "      <td>24.0</td>\n",
              "      <td>-1.0</td>\n",
              "      <td>11.0</td>\n",
              "      <td>35.0</td>\n",
              "      <td>235.0</td>\n",
              "      <td>215.0</td>\n",
              "      <td>199.0</td>\n",
              "      <td>1448</td>\n",
              "      <td>254.0</td>\n",
              "      <td>5.0</td>\n",
              "      <td>320</td>\n",
              "      <td>259.0</td>\n",
              "      <td>-21.0</td>\n",
              "      <td>0</td>\n",
              "      <td>0</td>\n",
              "    </tr>\n",
              "  </tbody>\n",
              "</table>\n",
              "</div>"
            ],
            "text/plain": [
              "   YEAR  MONTH  DAY  ...  ARRIVAL_DELAY DIVERTED  CANCELLED\n",
              "0  2015      1    1  ...          -22.0        0          0\n",
              "1  2015      1    1  ...           -9.0        0          0\n",
              "2  2015      1    1  ...            5.0        0          0\n",
              "3  2015      1    1  ...           -9.0        0          0\n",
              "4  2015      1    1  ...          -21.0        0          0\n",
              "\n",
              "[5 rows x 25 columns]"
            ]
          },
          "metadata": {
            "tags": []
          },
          "execution_count": 27
        }
      ]
    },
    {
      "cell_type": "code",
      "metadata": {
        "id": "HI2gWZJ2uDim",
        "colab_type": "code",
        "colab": {}
      },
      "source": [
        "plt.rcParams[\"figure.figsize\"] = [16,9]"
      ],
      "execution_count": 0,
      "outputs": []
    },
    {
      "cell_type": "code",
      "metadata": {
        "id": "s_3n6ce1o6iU",
        "colab_type": "code",
        "outputId": "bf8c0b1f-a9d8-444a-cf7d-e0a9f88ab78e",
        "colab": {
          "base_uri": "https://localhost:8080/",
          "height": 1000
        }
      },
      "source": [
        "plt.pyplot.hist(df.DEPARTURE_DELAY, bins=100,histtype=\"step\")"
      ],
      "execution_count": 65,
      "outputs": [
        {
          "output_type": "execute_result",
          "data": {
            "text/plain": [
              "(array([2.000000e+00, 2.700000e+01, 4.648000e+03, 3.594282e+06,\n",
              "        1.291054e+06, 3.529460e+05, 1.625280e+05, 9.827800e+04,\n",
              "        6.244200e+04, 4.022200e+04, 2.927100e+04, 2.054700e+04,\n",
              "        1.473500e+04, 1.021100e+04, 7.689000e+03, 5.750000e+03,\n",
              "        3.912000e+03, 3.200000e+03, 2.377000e+03, 1.806000e+03,\n",
              "        1.470000e+03, 1.137000e+03, 8.290000e+02, 6.400000e+02,\n",
              "        5.790000e+02, 4.840000e+02, 3.720000e+02, 2.970000e+02,\n",
              "        2.640000e+02, 2.130000e+02, 1.750000e+02, 1.450000e+02,\n",
              "        1.220000e+02, 9.900000e+01, 8.600000e+01, 9.800000e+01,\n",
              "        6.700000e+01, 7.700000e+01, 7.000000e+01, 5.800000e+01,\n",
              "        6.900000e+01, 5.800000e+01, 4.800000e+01, 4.700000e+01,\n",
              "        5.600000e+01, 5.000000e+01, 4.000000e+01, 4.000000e+01,\n",
              "        3.800000e+01, 3.000000e+01, 2.400000e+01, 3.000000e+01,\n",
              "        2.800000e+01, 1.700000e+01, 2.600000e+01, 2.600000e+01,\n",
              "        9.000000e+00, 1.800000e+01, 1.300000e+01, 1.300000e+01,\n",
              "        1.400000e+01, 9.000000e+00, 1.500000e+01, 7.000000e+00,\n",
              "        8.000000e+00, 6.000000e+00, 3.000000e+00, 4.000000e+00,\n",
              "        5.000000e+00, 3.000000e+00, 8.000000e+00, 3.000000e+00,\n",
              "        1.000000e+00, 2.000000e+00, 5.000000e+00, 3.000000e+00,\n",
              "        2.000000e+00, 4.000000e+00, 4.000000e+00, 2.000000e+00,\n",
              "        3.000000e+00, 2.000000e+00, 2.000000e+00, 1.000000e+00,\n",
              "        1.000000e+00, 0.000000e+00, 0.000000e+00, 0.000000e+00,\n",
              "        0.000000e+00, 0.000000e+00, 0.000000e+00, 0.000000e+00,\n",
              "        0.000000e+00, 0.000000e+00, 1.000000e+00, 0.000000e+00,\n",
              "        0.000000e+00, 0.000000e+00, 0.000000e+00, 1.000000e+00]),\n",
              " array([-8.2000e+01, -6.1300e+01, -4.0600e+01, -1.9900e+01,  8.0000e-01,\n",
              "         2.1500e+01,  4.2200e+01,  6.2900e+01,  8.3600e+01,  1.0430e+02,\n",
              "         1.2500e+02,  1.4570e+02,  1.6640e+02,  1.8710e+02,  2.0780e+02,\n",
              "         2.2850e+02,  2.4920e+02,  2.6990e+02,  2.9060e+02,  3.1130e+02,\n",
              "         3.3200e+02,  3.5270e+02,  3.7340e+02,  3.9410e+02,  4.1480e+02,\n",
              "         4.3550e+02,  4.5620e+02,  4.7690e+02,  4.9760e+02,  5.1830e+02,\n",
              "         5.3900e+02,  5.5970e+02,  5.8040e+02,  6.0110e+02,  6.2180e+02,\n",
              "         6.4250e+02,  6.6320e+02,  6.8390e+02,  7.0460e+02,  7.2530e+02,\n",
              "         7.4600e+02,  7.6670e+02,  7.8740e+02,  8.0810e+02,  8.2880e+02,\n",
              "         8.4950e+02,  8.7020e+02,  8.9090e+02,  9.1160e+02,  9.3230e+02,\n",
              "         9.5300e+02,  9.7370e+02,  9.9440e+02,  1.0151e+03,  1.0358e+03,\n",
              "         1.0565e+03,  1.0772e+03,  1.0979e+03,  1.1186e+03,  1.1393e+03,\n",
              "         1.1600e+03,  1.1807e+03,  1.2014e+03,  1.2221e+03,  1.2428e+03,\n",
              "         1.2635e+03,  1.2842e+03,  1.3049e+03,  1.3256e+03,  1.3463e+03,\n",
              "         1.3670e+03,  1.3877e+03,  1.4084e+03,  1.4291e+03,  1.4498e+03,\n",
              "         1.4705e+03,  1.4912e+03,  1.5119e+03,  1.5326e+03,  1.5533e+03,\n",
              "         1.5740e+03,  1.5947e+03,  1.6154e+03,  1.6361e+03,  1.6568e+03,\n",
              "         1.6775e+03,  1.6982e+03,  1.7189e+03,  1.7396e+03,  1.7603e+03,\n",
              "         1.7810e+03,  1.8017e+03,  1.8224e+03,  1.8431e+03,  1.8638e+03,\n",
              "         1.8845e+03,  1.9052e+03,  1.9259e+03,  1.9466e+03,  1.9673e+03,\n",
              "         1.9880e+03]),\n",
              " <a list of 1 Patch objects>)"
            ]
          },
          "metadata": {
            "tags": []
          },
          "execution_count": 65
        },
        {
          "output_type": "display_data",
          "data": {
            "image/png": "[encoded data removed]",
            "text/plain": [
              "<Figure size 1152x648 with 1 Axes>"
            ]
          },
          "metadata": {
            "tags": []
          }
        }
      ]
    },
    {
      "cell_type": "code",
      "metadata": {
        "id": "haU_qNaBtvJt",
        "colab_type": "code",
        "outputId": "35b0b575-a385-4d20-ea5f-ef2a5d08bbc2",
        "colab": {
          "base_uri": "https://localhost:8080/",
          "height": 1000
        }
      },
      "source": [
        "plt.pyplot.hist(df.DEPARTURE_DELAY, bins=100,range=(df.DEPARTURE_DELAY.min(),200),histtype=\"step\")"
      ],
      "execution_count": 0,
      "outputs": [
        {
          "output_type": "execute_result",
          "data": {
            "text/plain": [
              "(array([1.000000e+00, 0.000000e+00, 0.000000e+00, 0.000000e+00,\n",
              "        1.000000e+00, 0.000000e+00, 0.000000e+00, 1.000000e+00,\n",
              "        0.000000e+00, 2.000000e+00, 1.000000e+00, 0.000000e+00,\n",
              "        4.000000e+00, 7.000000e+00, 2.400000e+01, 3.800000e+01,\n",
              "        4.100000e+01, 7.400000e+01, 1.440000e+02, 3.710000e+02,\n",
              "        9.890000e+02, 2.979000e+03, 4.936000e+03, 2.105600e+04,\n",
              "        6.958800e+04, 2.752350e+05, 7.389430e+05, 8.809560e+05,\n",
              "        1.275126e+06, 6.091410e+05, 2.814380e+05, 2.072400e+05,\n",
              "        1.638780e+05, 9.046800e+04, 1.155100e+05, 9.607400e+04,\n",
              "        8.122300e+04, 6.924000e+04, 4.073100e+04, 5.542800e+04,\n",
              "        4.746600e+04, 4.271800e+04, 3.783200e+04, 3.405500e+04,\n",
              "        2.104800e+04, 2.913600e+04, 2.626400e+04, 2.414800e+04,\n",
              "        2.245900e+04, 1.378100e+04, 1.961800e+04, 1.760000e+04,\n",
              "        1.666700e+04, 1.532000e+04, 1.392800e+04, 8.943000e+03,\n",
              "        1.255200e+04, 1.187600e+04, 1.109200e+04, 1.055000e+04,\n",
              "        9.938000e+03, 6.127000e+03, 8.762000e+03, 8.225000e+03,\n",
              "        7.975000e+03, 7.239000e+03, 4.697000e+03, 6.801000e+03,\n",
              "        6.381000e+03, 6.226000e+03, 5.604000e+03, 5.439000e+03,\n",
              "        3.442000e+03, 4.887000e+03, 4.638000e+03, 4.455000e+03,\n",
              "        4.307000e+03, 2.718000e+03, 3.830000e+03, 3.708000e+03,\n",
              "        3.483000e+03, 3.373000e+03, 3.210000e+03, 1.993000e+03,\n",
              "        2.949000e+03, 2.833000e+03, 2.600000e+03, 2.466000e+03,\n",
              "        1.636000e+03, 2.480000e+03, 2.123000e+03, 2.130000e+03,\n",
              "        2.058000e+03, 1.883000e+03, 1.235000e+03, 1.795000e+03,\n",
              "        1.704000e+03, 1.584000e+03, 1.543000e+03, 1.546000e+03]),\n",
              " array([-82.  , -79.18, -76.36, -73.54, -70.72, -67.9 , -65.08, -62.26,\n",
              "        -59.44, -56.62, -53.8 , -50.98, -48.16, -45.34, -42.52, -39.7 ,\n",
              "        -36.88, -34.06, -31.24, -28.42, -25.6 , -22.78, -19.96, -17.14,\n",
              "        -14.32, -11.5 ,  -8.68,  -5.86,  -3.04,  -0.22,   2.6 ,   5.42,\n",
              "          8.24,  11.06,  13.88,  16.7 ,  19.52,  22.34,  25.16,  27.98,\n",
              "         30.8 ,  33.62,  36.44,  39.26,  42.08,  44.9 ,  47.72,  50.54,\n",
              "         53.36,  56.18,  59.  ,  61.82,  64.64,  67.46,  70.28,  73.1 ,\n",
              "         75.92,  78.74,  81.56,  84.38,  87.2 ,  90.02,  92.84,  95.66,\n",
              "         98.48, 101.3 , 104.12, 106.94, 109.76, 112.58, 115.4 , 118.22,\n",
              "        121.04, 123.86, 126.68, 129.5 , 132.32, 135.14, 137.96, 140.78,\n",
              "        143.6 , 146.42, 149.24, 152.06, 154.88, 157.7 , 160.52, 163.34,\n",
              "        166.16, 168.98, 171.8 , 174.62, 177.44, 180.26, 183.08, 185.9 ,\n",
              "        188.72, 191.54, 194.36, 197.18, 200.  ]),\n",
              " <a list of 1 Patch objects>)"
            ]
          },
          "metadata": {
            "tags": []
          },
          "execution_count": 64
        },
        {
          "output_type": "display_data",
          "data": {
            "image/png": "[encoded data removed]",
            "text/plain": [
              "<Figure size 1152x648 with 1 Axes>"
            ]
          },
          "metadata": {
            "tags": []
          }
        }
      ]
    },
    {
      "cell_type": "code",
      "metadata": {
        "id": "DOlHHOEpvuwy",
        "colab_type": "code",
        "colab": {
          "base_uri": "https://localhost:8080/",
          "height": 1000
        },
        "outputId": "03e8b01c-dc12-4d38-a8a9-4a3401c5b367"
      },
      "source": [
        "plt.pyplot.hist(df.ARRIVAL_DELAY, bins=100,histtype=\"step\")"
      ],
      "execution_count": 66,
      "outputs": [
        {
          "output_type": "execute_result",
          "data": {
            "text/plain": [
              "(array([1.090000e+02, 7.716000e+03, 2.449060e+05, 2.668488e+06,\n",
              "        1.769291e+06, 4.825550e+05, 2.020820e+05, 1.059300e+05,\n",
              "        7.023900e+04, 4.458000e+04, 3.266900e+04, 2.192400e+04,\n",
              "        1.634700e+04, 1.174900e+04, 8.116000e+03, 6.259000e+03,\n",
              "        4.427000e+03, 3.419000e+03, 2.592000e+03, 2.058000e+03,\n",
              "        1.560000e+03, 1.177000e+03, 9.060000e+02, 7.110000e+02,\n",
              "        6.260000e+02, 4.840000e+02, 3.720000e+02, 3.410000e+02,\n",
              "        2.820000e+02, 2.430000e+02, 1.700000e+02, 1.540000e+02,\n",
              "        1.320000e+02, 1.030000e+02, 1.100000e+02, 8.800000e+01,\n",
              "        7.000000e+01, 7.000000e+01, 6.400000e+01, 7.500000e+01,\n",
              "        6.900000e+01, 6.600000e+01, 4.600000e+01, 4.900000e+01,\n",
              "        5.100000e+01, 4.300000e+01, 3.900000e+01, 4.400000e+01,\n",
              "        4.000000e+01, 2.800000e+01, 3.200000e+01, 2.100000e+01,\n",
              "        2.600000e+01, 2.900000e+01, 2.600000e+01, 2.500000e+01,\n",
              "        1.300000e+01, 1.400000e+01, 1.300000e+01, 1.700000e+01,\n",
              "        9.000000e+00, 1.600000e+01, 9.000000e+00, 1.200000e+01,\n",
              "        8.000000e+00, 4.000000e+00, 7.000000e+00, 3.000000e+00,\n",
              "        4.000000e+00, 4.000000e+00, 8.000000e+00, 5.000000e+00,\n",
              "        1.000000e+00, 0.000000e+00, 6.000000e+00, 4.000000e+00,\n",
              "        1.000000e+00, 4.000000e+00, 1.000000e+00, 6.000000e+00,\n",
              "        2.000000e+00, 2.000000e+00, 0.000000e+00, 4.000000e+00,\n",
              "        0.000000e+00, 1.000000e+00, 0.000000e+00, 0.000000e+00,\n",
              "        0.000000e+00, 0.000000e+00, 0.000000e+00, 0.000000e+00,\n",
              "        0.000000e+00, 0.000000e+00, 0.000000e+00, 0.000000e+00,\n",
              "        1.000000e+00, 0.000000e+00, 0.000000e+00, 1.000000e+00]),\n",
              " array([ -87.  ,  -66.42,  -45.84,  -25.26,   -4.68,   15.9 ,   36.48,\n",
              "          57.06,   77.64,   98.22,  118.8 ,  139.38,  159.96,  180.54,\n",
              "         201.12,  221.7 ,  242.28,  262.86,  283.44,  304.02,  324.6 ,\n",
              "         345.18,  365.76,  386.34,  406.92,  427.5 ,  448.08,  468.66,\n",
              "         489.24,  509.82,  530.4 ,  550.98,  571.56,  592.14,  612.72,\n",
              "         633.3 ,  653.88,  674.46,  695.04,  715.62,  736.2 ,  756.78,\n",
              "         777.36,  797.94,  818.52,  839.1 ,  859.68,  880.26,  900.84,\n",
              "         921.42,  942.  ,  962.58,  983.16, 1003.74, 1024.32, 1044.9 ,\n",
              "        1065.48, 1086.06, 1106.64, 1127.22, 1147.8 , 1168.38, 1188.96,\n",
              "        1209.54, 1230.12, 1250.7 , 1271.28, 1291.86, 1312.44, 1333.02,\n",
              "        1353.6 , 1374.18, 1394.76, 1415.34, 1435.92, 1456.5 , 1477.08,\n",
              "        1497.66, 1518.24, 1538.82, 1559.4 , 1579.98, 1600.56, 1621.14,\n",
              "        1641.72, 1662.3 , 1682.88, 1703.46, 1724.04, 1744.62, 1765.2 ,\n",
              "        1785.78, 1806.36, 1826.94, 1847.52, 1868.1 , 1888.68, 1909.26,\n",
              "        1929.84, 1950.42, 1971.  ]),\n",
              " <a list of 1 Patch objects>)"
            ]
          },
          "metadata": {
            "tags": []
          },
          "execution_count": 66
        },
        {
          "output_type": "display_data",
          "data": {
            "image/png": "[encoded data removed]",
            "text/plain": [
              "<Figure size 1152x648 with 1 Axes>"
            ]
          },
          "metadata": {
            "tags": []
          }
        }
      ]
    },
    {
      "cell_type": "code",
      "metadata": {
        "id": "BIlc_R8pv2Ik",
        "colab_type": "code",
        "colab": {
          "base_uri": "https://localhost:8080/",
          "height": 1000
        },
        "outputId": "9a2f055f-0708-4f0e-c930-f14bd0466023"
      },
      "source": [
        "plt.pyplot.hist(df.ARRIVAL_DELAY, bins=100,range = (df.ARRIVAL_DELAY.min(),200),histtype=\"step\")"
      ],
      "execution_count": 68,
      "outputs": [
        {
          "output_type": "execute_result",
          "data": {
            "text/plain": [
              "(array([2.00000e+00, 1.00000e+00, 7.00000e+00, 6.00000e+00, 1.20000e+01,\n",
              "        2.60000e+01, 5.50000e+01, 5.30000e+01, 1.60000e+02, 3.02000e+02,\n",
              "        4.95000e+02, 9.16000e+02, 1.60000e+03, 2.83200e+03, 4.76300e+03,\n",
              "        4.79700e+03, 1.13430e+04, 1.88020e+04, 3.12480e+04, 5.18550e+04,\n",
              "        8.51920e+04, 1.34566e+05, 2.04934e+05, 1.86037e+05, 3.58208e+05,\n",
              "        4.49978e+05, 5.12003e+05, 5.27439e+05, 4.91059e+05, 4.22208e+05,\n",
              "        2.40467e+05, 2.95063e+05, 2.34373e+05, 1.85530e+05, 1.50181e+05,\n",
              "        1.21716e+05, 9.96880e+04, 8.41840e+04, 4.89870e+04, 6.44180e+04,\n",
              "        5.58050e+04, 4.89810e+04, 4.27730e+04, 3.83550e+04, 3.45770e+04,\n",
              "        3.08380e+04, 1.91610e+04, 2.62460e+04, 2.41990e+04, 2.18400e+04,\n",
              "        2.01360e+04, 1.86410e+04, 1.66950e+04, 1.08320e+04, 1.50540e+04,\n",
              "        1.40410e+04, 1.32280e+04, 1.21690e+04, 1.14680e+04, 1.07820e+04,\n",
              "        1.02080e+04, 6.41100e+03, 9.21100e+03, 8.74900e+03, 8.00900e+03,\n",
              "        7.63800e+03, 7.11200e+03, 6.85100e+03, 6.51600e+03, 4.12700e+03,\n",
              "        5.88500e+03, 5.70800e+03, 5.30000e+03, 5.08300e+03, 4.78100e+03,\n",
              "        4.67900e+03, 2.85000e+03, 4.14500e+03, 3.97500e+03, 3.81000e+03,\n",
              "        3.64600e+03, 3.36600e+03, 3.21900e+03, 3.04800e+03, 1.99000e+03,\n",
              "        2.84500e+03, 2.60800e+03, 2.62900e+03, 2.42600e+03, 2.32400e+03,\n",
              "        2.24400e+03, 2.10200e+03, 1.32500e+03, 2.00800e+03, 1.84700e+03,\n",
              "        1.80900e+03, 1.65000e+03, 1.63300e+03, 1.55500e+03, 1.48700e+03]),\n",
              " array([-87.  , -84.13, -81.26, -78.39, -75.52, -72.65, -69.78, -66.91,\n",
              "        -64.04, -61.17, -58.3 , -55.43, -52.56, -49.69, -46.82, -43.95,\n",
              "        -41.08, -38.21, -35.34, -32.47, -29.6 , -26.73, -23.86, -20.99,\n",
              "        -18.12, -15.25, -12.38,  -9.51,  -6.64,  -3.77,  -0.9 ,   1.97,\n",
              "          4.84,   7.71,  10.58,  13.45,  16.32,  19.19,  22.06,  24.93,\n",
              "         27.8 ,  30.67,  33.54,  36.41,  39.28,  42.15,  45.02,  47.89,\n",
              "         50.76,  53.63,  56.5 ,  59.37,  62.24,  65.11,  67.98,  70.85,\n",
              "         73.72,  76.59,  79.46,  82.33,  85.2 ,  88.07,  90.94,  93.81,\n",
              "         96.68,  99.55, 102.42, 105.29, 108.16, 111.03, 113.9 , 116.77,\n",
              "        119.64, 122.51, 125.38, 128.25, 131.12, 133.99, 136.86, 139.73,\n",
              "        142.6 , 145.47, 148.34, 151.21, 154.08, 156.95, 159.82, 162.69,\n",
              "        165.56, 168.43, 171.3 , 174.17, 177.04, 179.91, 182.78, 185.65,\n",
              "        188.52, 191.39, 194.26, 197.13, 200.  ]),\n",
              " <a list of 1 Patch objects>)"
            ]
          },
          "metadata": {
            "tags": []
          },
          "execution_count": 68
        },
        {
          "output_type": "display_data",
          "data": {
            "image/png": "[encoded data removed]",
            "text/plain": [
              "<Figure size 1152x648 with 1 Axes>"
            ]
          },
          "metadata": {
            "tags": []
          }
        }
      ]
    }
  ]
}